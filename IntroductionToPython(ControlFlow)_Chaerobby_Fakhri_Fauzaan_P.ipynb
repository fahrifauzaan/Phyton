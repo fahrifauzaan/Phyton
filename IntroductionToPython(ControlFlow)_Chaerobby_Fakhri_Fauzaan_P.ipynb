{
  "cells": [
    {
      "cell_type": "markdown",
      "metadata": {
        "id": "lw61eWVf29qB"
      },
      "source": [
        "## Important!! Please make a copy from this version to your own Google Colab.\n",
        "File >> Save a Copy in Drive\n",
        "\n",
        "## Commonly used shortcuts in Notebook -> save time!\n",
        "* Esc + a -> create a new cell above\n",
        "* Esc + b -> create a new cell below\n",
        "* Shift + enter (return) -> run cell\n",
        "* Shift + Tab -> check the properties and variables for a function\n",
        "\n",
        "For more complete list: https://towardsdatascience.com/jypyter-notebook-shortcuts-bf0101a98330\n"
      ]
    },
    {
      "cell_type": "markdown",
      "metadata": {
        "id": "qRoY_q9Do-1S"
      },
      "source": [
        "# Control Flows"
      ]
    },
    {
      "cell_type": "markdown",
      "metadata": {
        "id": "HkI3-hRfhBMz"
      },
      "source": [
        "## if,elif, else Statements"
      ]
    },
    {
      "cell_type": "code",
      "execution_count": null,
      "metadata": {
        "colab": {
          "base_uri": "https://localhost:8080/"
        },
        "id": "JSVhsbauhBM1",
        "outputId": "4689684f-379e-4011-eb87-8c8b599d555c"
      },
      "outputs": [
        {
          "name": "stdout",
          "output_type": "stream",
          "text": [
            "A is lesser than B\n"
          ]
        }
      ],
      "source": [
        "a = 15\n",
        "\n",
        "b = 20\n",
        "\n",
        "if a < b:\n",
        "  print('A is lesser than B')"
      ]
    },
    {
      "cell_type": "code",
      "execution_count": null,
      "metadata": {
        "colab": {
          "base_uri": "https://localhost:8080/"
        },
        "id": "coa_HBjMhBM4",
        "outputId": "c77564b8-ca44-4d65-a47c-1367db4f6c2b"
      },
      "outputs": [
        {
          "name": "stdout",
          "output_type": "stream",
          "text": [
            "2 2\n",
            "A is equal to B\n"
          ]
        }
      ],
      "source": [
        "if a > b:\n",
        "    print('A is greater than B')\n",
        "else:\n",
        "    print('A is lesser than B')"
      ]
    },
    {
      "cell_type": "code",
      "execution_count": null,
      "metadata": {
        "colab": {
          "base_uri": "https://localhost:8080/"
        },
        "id": "jZxpwNi3hBM6",
        "outputId": "f6743ccc-c7b3-4956-a541-008e1695d68a"
      },
      "outputs": [
        {
          "name": "stdout",
          "output_type": "stream",
          "text": [
            "A is lesser than B\n"
          ]
        }
      ],
      "source": [
        "if a > b:\n",
        "    print('A is greater than B')\n",
        "elif a == b:\n",
        "    print('A is equal to B')\n",
        "else:\n",
        "    print('A is lesser than B')"
      ]
    },
    {
      "cell_type": "markdown",
      "metadata": {
        "id": "FSzV2hmfhBNC"
      },
      "source": [
        "## for Loops\n",
        "\n"
      ]
    },
    {
      "cell_type": "code",
      "execution_count": null,
      "metadata": {
        "id": "fu_icMSDhBND"
      },
      "outputs": [],
      "source": [
        "seq = [1,2,3,4,5]"
      ]
    },
    {
      "cell_type": "code",
      "execution_count": null,
      "metadata": {
        "colab": {
          "base_uri": "https://localhost:8080/"
        },
        "id": "YKKX4ni8hBNE",
        "outputId": "0575b149-fea0-405d-ff5a-1071a3744937"
      },
      "outputs": [
        {
          "name": "stdout",
          "output_type": "stream",
          "text": [
            "1\n",
            "2\n",
            "3\n",
            "4\n",
            "5\n"
          ]
        }
      ],
      "source": [
        "for i in seq:\n",
        "  print(i)"
      ]
    },
    {
      "cell_type": "code",
      "execution_count": null,
      "metadata": {
        "colab": {
          "base_uri": "https://localhost:8080/"
        },
        "id": "z6LzjKWbhBNG",
        "outputId": "1bba5024-9315-4459-8a6f-bae7ae32f73e"
      },
      "outputs": [
        {
          "name": "stdout",
          "output_type": "stream",
          "text": [
            "Yep\n",
            "Yep\n",
            "Yep\n",
            "Yep\n",
            "Yep\n"
          ]
        }
      ],
      "source": [
        "for item in seq:\n",
        "    print('Yep')"
      ]
    },
    {
      "cell_type": "code",
      "execution_count": null,
      "metadata": {
        "colab": {
          "base_uri": "https://localhost:8080/"
        },
        "id": "kaYaHINlhBNH",
        "outputId": "599c2598-a684-4a8c-82ae-013a2774823f"
      },
      "outputs": [
        {
          "name": "stdout",
          "output_type": "stream",
          "text": [
            "2\n",
            "4\n",
            "6\n",
            "8\n",
            "10\n"
          ]
        }
      ],
      "source": [
        "for item in seq:\n",
        "    print(item+item)"
      ]
    },
    {
      "cell_type": "code",
      "execution_count": null,
      "metadata": {
        "colab": {
          "base_uri": "https://localhost:8080/"
        },
        "id": "8OKWMCV-7UAO",
        "outputId": "8bf9c8d9-5490-41e0-daa4-0f94f613b08b"
      },
      "outputs": [
        {
          "name": "stdout",
          "output_type": "stream",
          "text": [
            "Monday\n",
            "Tuesday\n",
            "Wednesday\n",
            "Thursday\n",
            "Friday\n"
          ]
        }
      ],
      "source": [
        "#It can iterate over a dictionary as well\n",
        "\n",
        "weekdays = [\"Monday\", \"Tuesday\", \"Wednesday\",\"Thursday\",\"Friday\"]\n",
        "for i in weekdays:\n",
        "  print(i)"
      ]
    },
    {
      "cell_type": "code",
      "execution_count": null,
      "metadata": {
        "colab": {
          "base_uri": "https://localhost:8080/"
        },
        "id": "EgNo_9iz7dKx",
        "outputId": "a6d8ae13-2c12-473b-d7fe-2b8670eec251"
      },
      "outputs": [
        {
          "name": "stdout",
          "output_type": "stream",
          "text": [
            "1\n",
            "2\n",
            "3\n",
            "4\n"
          ]
        }
      ],
      "source": [
        "#Looping through String\n",
        "\n",
        "for i in \"python\":\n",
        "  print(i)"
      ]
    },
    {
      "cell_type": "markdown",
      "metadata": {
        "id": "cxHvbCqWhBNJ"
      },
      "source": [
        "## while Loops"
      ]
    },
    {
      "cell_type": "code",
      "execution_count": null,
      "metadata": {
        "colab": {
          "base_uri": "https://localhost:8080/"
        },
        "id": "_HBhfgVahBNJ",
        "outputId": "d27101b8-867b-4a1e-f74c-40844557f887"
      },
      "outputs": [
        {
          "name": "stdout",
          "output_type": "stream",
          "text": [
            "i is: 1\n",
            "i is: 2\n",
            "i is: 3\n",
            "i is: 4\n"
          ]
        }
      ],
      "source": [
        "i = 1\n",
        "while i < 5:\n",
        "    print('i is: {}'.format(i))\n",
        "    i = i+1"
      ]
    },
    {
      "cell_type": "markdown",
      "metadata": {
        "id": "m1nr_O9S9ALD"
      },
      "source": [
        "#Lab Exercise #3\n"
      ]
    },
    {
      "cell_type": "code",
      "execution_count": null,
      "metadata": {
        "colab": {
          "base_uri": "https://localhost:8080/"
        },
        "id": "_3TlC2B73ZqA",
        "outputId": "8ea442f2-d9c3-4d42-e02d-96aaa9b763be"
      },
      "outputs": [
        {
          "name": "stdout",
          "output_type": "stream",
          "text": [
            "b is greater than a\n"
          ]
        }
      ],
      "source": [
        "#1. Resolve error\n",
        "\n",
        "a = 33\n",
        "b = 200\n",
        "if b > a:\n",
        "  print(\"b is greater than a\")"
      ]
    },
    {
      "cell_type": "code",
      "execution_count": null,
      "metadata": {
        "id": "tdvCNb9z3hVl"
      },
      "outputs": [],
      "source": [
        "# 2. Make a program that lists the months in the list below using a while loop.\n",
        "mlist = [\"January\",\"February\",\"March\",\"April\"]"
      ]
    },
    {
      "cell_type": "code",
      "execution_count": null,
      "metadata": {
        "id": "ko8C6puy3l0m"
      },
      "outputs": [],
      "source": [
        "#3. Make a program to print even numbers till 100"
      ]
    },
    {
      "cell_type": "markdown",
      "metadata": {
        "id": "EVKJLA5_hBNb"
      },
      "source": [
        "# Functions\n",
        "Indentation matters!"
      ]
    },
    {
      "cell_type": "code",
      "execution_count": null,
      "metadata": {
        "id": "ZM-oW8qchBNc"
      },
      "outputs": [],
      "source": [
        "def my_first_function():\n",
        "  print(\"This is my first python function\")"
      ]
    },
    {
      "cell_type": "code",
      "execution_count": null,
      "metadata": {
        "colab": {
          "base_uri": "https://localhost:8080/"
        },
        "id": "-WNRw-1WhBNd",
        "outputId": "3c195033-b86c-446d-c9cd-2b3147d2ab5c"
      },
      "outputs": [
        {
          "name": "stdout",
          "output_type": "stream",
          "text": [
            "This is my first python function\n"
          ]
        }
      ],
      "source": [
        "my_first_function()"
      ]
    },
    {
      "cell_type": "code",
      "execution_count": null,
      "metadata": {
        "id": "vzPxNNRfhBNf"
      },
      "outputs": [],
      "source": [
        "def my_second_function(fname):\n",
        "  print(\"Data \" + fname)"
      ]
    },
    {
      "cell_type": "code",
      "execution_count": null,
      "metadata": {
        "colab": {
          "base_uri": "https://localhost:8080/"
        },
        "id": "604oFzwQhBNi",
        "outputId": "dab924bf-517e-4c2c-a73b-7aa5f1541d56"
      },
      "outputs": [
        {
          "name": "stdout",
          "output_type": "stream",
          "text": [
            "Data Analytics\n"
          ]
        }
      ],
      "source": [
        "my_second_function(\"Analytics\")"
      ]
    },
    {
      "cell_type": "code",
      "execution_count": null,
      "metadata": {
        "colab": {
          "base_uri": "https://localhost:8080/"
        },
        "id": "W1YEWKuchBNj",
        "outputId": "b85d2d96-fb21-4591-b2ce-7d96f8eda97c"
      },
      "outputs": [
        {
          "name": "stdout",
          "output_type": "stream",
          "text": [
            "Data Science\n"
          ]
        }
      ],
      "source": [
        "my_second_function(\"Science\")"
      ]
    },
    {
      "cell_type": "code",
      "execution_count": null,
      "metadata": {
        "id": "Si0qHzoQhBNk"
      },
      "outputs": [],
      "source": [
        "def square(x):\n",
        "    return x**2"
      ]
    },
    {
      "cell_type": "code",
      "execution_count": null,
      "metadata": {
        "colab": {
          "base_uri": "https://localhost:8080/"
        },
        "id": "Smbi9Ic4hBNn",
        "outputId": "9c41d3a0-9d67-4c19-81ce-05fcf3de0d8c"
      },
      "outputs": [
        {
          "name": "stdout",
          "output_type": "stream",
          "text": [
            "16\n"
          ]
        }
      ],
      "source": [
        "print(square(4))"
      ]
    },
    {
      "cell_type": "code",
      "execution_count": null,
      "metadata": {
        "colab": {
          "base_uri": "https://localhost:8080/"
        },
        "id": "lXn3bj2UhBNo",
        "outputId": "0eb12012-7131-4a2d-e9f5-a1c754e6e227",
        "scrolled": true
      },
      "outputs": [
        {
          "name": "stdout",
          "output_type": "stream",
          "text": [
            "25\n"
          ]
        }
      ],
      "source": [
        "print(square(5))"
      ]
    },
    {
      "cell_type": "code",
      "execution_count": null,
      "metadata": {
        "colab": {
          "base_uri": "https://localhost:8080/"
        },
        "id": "77khGFklRfKA",
        "outputId": "c77006ac-7e53-4d16-92d8-e2371928f96a"
      },
      "outputs": [
        {
          "name": "stdout",
          "output_type": "stream",
          "text": [
            "This function prints\n",
            "Let's us see what the values of f1 and f2 are:\n",
            "None\n",
            "This function returns\n"
          ]
        }
      ],
      "source": [
        "#Difference between functions that return vs print.\n",
        "def function_that_prints():\n",
        "    print('This function prints')\n",
        "\n",
        "def function_that_returns():\n",
        "    return 'This function returns'\n",
        "\n",
        "f1 = function_that_prints()\n",
        "f2 = function_that_returns()\n",
        "print (\"Let's us see what the values of f1 and f2 are:\")\n",
        "print(f1)\n",
        "print(f2)"
      ]
    },
    {
      "cell_type": "markdown",
      "metadata": {
        "id": "_xf7L0mE1zBK"
      },
      "source": [
        "# Error Handling"
      ]
    },
    {
      "cell_type": "code",
      "execution_count": null,
      "metadata": {
        "colab": {
          "base_uri": "https://localhost:8080/",
          "height": 187
        },
        "collapsed": true,
        "id": "7Ys6OPsg12Zl",
        "outputId": "bca1bc48-d71f-4796-e014-9b92655efa18"
      },
      "outputs": [
        {
          "ename": "ZeroDivisionError",
          "evalue": "ignored",
          "output_type": "error",
          "traceback": [
            "\u001b[0;31m---------------------------------------------------------------------------\u001b[0m",
            "\u001b[0;31mZeroDivisionError\u001b[0m                         Traceback (most recent call last)",
            "\u001b[0;32m<ipython-input-13-9f706477b4de>\u001b[0m in \u001b[0;36m<module>\u001b[0;34m()\u001b[0m\n\u001b[0;32m----> 1\u001b[0;31m \u001b[0ma\u001b[0m \u001b[0;34m=\u001b[0m \u001b[0;36m100\u001b[0m \u001b[0;34m/\u001b[0m \u001b[0;36m0\u001b[0m\u001b[0;34m\u001b[0m\u001b[0;34m\u001b[0m\u001b[0m\n\u001b[0m\u001b[1;32m      2\u001b[0m \u001b[0mprint\u001b[0m \u001b[0;34m(\u001b[0m\u001b[0ma\u001b[0m\u001b[0;34m)\u001b[0m\u001b[0;34m\u001b[0m\u001b[0;34m\u001b[0m\u001b[0m\n",
            "\u001b[0;31mZeroDivisionError\u001b[0m: division by zero"
          ]
        }
      ],
      "source": [
        "a = 100 / 0\n",
        "print (a)"
      ]
    },
    {
      "cell_type": "code",
      "execution_count": null,
      "metadata": {
        "colab": {
          "base_uri": "https://localhost:8080/",
          "height": 169
        },
        "collapsed": true,
        "id": "9S5smqhd2IwC",
        "outputId": "78305c85-fc74-4d1d-c582-04e5c93a7ec9"
      },
      "outputs": [
        {
          "ename": "NameError",
          "evalue": "ignored",
          "output_type": "error",
          "traceback": [
            "\u001b[0;31m---------------------------------------------------------------------------\u001b[0m",
            "\u001b[0;31mNameError\u001b[0m                                 Traceback (most recent call last)",
            "\u001b[0;32m<ipython-input-3-2256eaffe22f>\u001b[0m in \u001b[0;36m<module>\u001b[0;34m()\u001b[0m\n\u001b[0;32m----> 1\u001b[0;31m \u001b[0mprint\u001b[0m \u001b[0;34m(\u001b[0m\u001b[0mans\u001b[0m\u001b[0;34m)\u001b[0m\u001b[0;34m\u001b[0m\u001b[0;34m\u001b[0m\u001b[0m\n\u001b[0m",
            "\u001b[0;31mNameError\u001b[0m: name 'ans' is not defined"
          ]
        }
      ],
      "source": [
        "print (ans)"
      ]
    },
    {
      "cell_type": "code",
      "execution_count": null,
      "metadata": {
        "colab": {
          "base_uri": "https://localhost:8080/",
          "height": 204
        },
        "collapsed": true,
        "id": "VaMjVrb-2MqM",
        "outputId": "048cf651-133b-4e47-d5ac-2bc7c0f6418d"
      },
      "outputs": [
        {
          "ename": "TypeError",
          "evalue": "ignored",
          "output_type": "error",
          "traceback": [
            "\u001b[0;31m---------------------------------------------------------------------------\u001b[0m",
            "\u001b[0;31mTypeError\u001b[0m                                 Traceback (most recent call last)",
            "\u001b[0;32m<ipython-input-4-f3b1a6c5ef91>\u001b[0m in \u001b[0;36m<module>\u001b[0;34m()\u001b[0m\n\u001b[1;32m      1\u001b[0m \u001b[0ma\u001b[0m \u001b[0;34m=\u001b[0m \u001b[0;36m5\u001b[0m\u001b[0;34m\u001b[0m\u001b[0;34m\u001b[0m\u001b[0m\n\u001b[1;32m      2\u001b[0m \u001b[0mb\u001b[0m \u001b[0;34m=\u001b[0m \u001b[0;34m\"DataCamp\"\u001b[0m\u001b[0;34m\u001b[0m\u001b[0;34m\u001b[0m\u001b[0m\n\u001b[0;32m----> 3\u001b[0;31m \u001b[0mc\u001b[0m \u001b[0;34m=\u001b[0m \u001b[0ma\u001b[0m \u001b[0;34m+\u001b[0m \u001b[0mb\u001b[0m\u001b[0;34m\u001b[0m\u001b[0;34m\u001b[0m\u001b[0m\n\u001b[0m",
            "\u001b[0;31mTypeError\u001b[0m: unsupported operand type(s) for +: 'int' and 'str'"
          ]
        }
      ],
      "source": [
        "  a = 5\n",
        "  b = \"DataCamp\"\n",
        "  c = a + b"
      ]
    },
    {
      "cell_type": "code",
      "execution_count": null,
      "metadata": {
        "colab": {
          "base_uri": "https://localhost:8080/",
          "height": 169
        },
        "collapsed": true,
        "id": "isVLP7Cl2VNz",
        "outputId": "723801c6-740c-43dc-c26e-78d4172da99e"
      },
      "outputs": [
        {
          "ename": "ValueError",
          "evalue": "ignored",
          "output_type": "error",
          "traceback": [
            "\u001b[0;31m---------------------------------------------------------------------------\u001b[0m",
            "\u001b[0;31mValueError\u001b[0m                                Traceback (most recent call last)",
            "\u001b[0;32m<ipython-input-5-6df83d8e892c>\u001b[0m in \u001b[0;36m<module>\u001b[0;34m()\u001b[0m\n\u001b[0;32m----> 1\u001b[0;31m \u001b[0mprint\u001b[0m \u001b[0;34m(\u001b[0m\u001b[0mfloat\u001b[0m\u001b[0;34m(\u001b[0m\u001b[0;34m'DataCamp'\u001b[0m\u001b[0;34m)\u001b[0m\u001b[0;34m)\u001b[0m\u001b[0;34m\u001b[0m\u001b[0;34m\u001b[0m\u001b[0m\n\u001b[0m",
            "\u001b[0;31mValueError\u001b[0m: could not convert string to float: 'DataCamp'"
          ]
        }
      ],
      "source": [
        "print (float('DataCamp'))"
      ]
    },
    {
      "cell_type": "code",
      "execution_count": null,
      "metadata": {
        "colab": {
          "base_uri": "https://localhost:8080/",
          "height": 133
        },
        "id": "-92nDVGu7m_D",
        "outputId": "996cf1fb-58ac-4b0e-bcfa-45ec068ebe91"
      },
      "outputs": [
        {
          "ename": "IndentationError",
          "evalue": "ignored",
          "output_type": "error",
          "traceback": [
            "\u001b[0;36m  File \u001b[0;32m\"<ipython-input-12-756813aed0e7>\"\u001b[0;36m, line \u001b[0;32m2\u001b[0m\n\u001b[0;31m    print(\"This is my first python function\")\u001b[0m\n\u001b[0m        ^\u001b[0m\n\u001b[0;31mIndentationError\u001b[0m\u001b[0;31m:\u001b[0m expected an indented block\n"
          ]
        }
      ],
      "source": [
        "def my_first_function():\n",
        "print(\"This is my first python function\")"
      ]
    },
    {
      "cell_type": "markdown",
      "metadata": {
        "id": "bb-2pe56zqim"
      },
      "source": [
        "#Lab Exercise #4\n"
      ]
    },
    {
      "cell_type": "code",
      "execution_count": null,
      "metadata": {
        "id": "2FqCUUtd5mUU"
      },
      "outputs": [],
      "source": [
        "#1. Create and call a function which takes a parameter of text and prints/output it -  \n",
        "# Expected result of my_func(\"I love Python\")\n",
        "#'I love Python'"
      ]
    },
    {
      "cell_type": "code",
      "execution_count": null,
      "metadata": {
        "id": "-57ISNBa5qd7"
      },
      "outputs": [],
      "source": [
        "#2. Create a function which returns the sum of 2 values.\n",
        "#   Sample Code below - \n",
        "\n",
        "def my_sum_func(x,y):\n",
        "  <your_code_here> = x+y\n",
        "  return <your_code_here>\n",
        "\n",
        "print(<your code here>)\n"
      ]
    },
    {
      "cell_type": "markdown",
      "metadata": {
        "id": "YbPrh_Xg12oU"
      },
      "source": [
        "# Lab Exercise Answers #3 and #4"
      ]
    },
    {
      "cell_type": "code",
      "execution_count": null,
      "metadata": {
        "colab": {
          "base_uri": "https://localhost:8080/",
          "height": 35
        },
        "id": "k7_1J_PA198r",
        "outputId": "018c54ec-b36d-4dfa-9b3b-b4df1871686d"
      },
      "outputs": [
        {
          "data": {
            "application/vnd.google.colaboratory.intrinsic+json": {
              "type": "string"
            },
            "text/plain": [
              "'Love'"
            ]
          },
          "execution_count": 4,
          "metadata": {},
          "output_type": "execute_result"
        }
      ],
      "source": [
        "#Extract Love from She Loves Data string.\n",
        "word = 'She Loves Data'\n",
        "# type your code here\n",
        "word.split()[1][:4]"
      ]
    },
    {
      "cell_type": "code",
      "execution_count": null,
      "metadata": {
        "colab": {
          "base_uri": "https://localhost:8080/",
          "height": 35
        },
        "id": "Bt2dXYTZ198s",
        "outputId": "76652b11-c237-465a-f6ae-b21f9505fbad"
      },
      "outputs": [
        {
          "data": {
            "application/vnd.google.colaboratory.intrinsic+json": {
              "type": "string"
            },
            "text/plain": [
              "'C+'"
            ]
          },
          "execution_count": 5,
          "metadata": {},
          "output_type": "execute_result"
        }
      ],
      "source": [
        "#How do we extract Robert's history grade?\n",
        "dictionary = {'Robert': \n",
        "              {'mathematics':'A',\n",
        "               'history':'C+',\n",
        "               'physics': 'B'},\n",
        "              'Suzie':\n",
        "              {'mathematics':'A+', \n",
        "               'history':'B+',\n",
        "               'physics': 'A-'}\n",
        "              }\n",
        "#type your code here\n",
        "dictionary['Robert']['history']"
      ]
    },
    {
      "cell_type": "code",
      "execution_count": null,
      "metadata": {
        "colab": {
          "base_uri": "https://localhost:8080/"
        },
        "id": "BerQ9Qli198s",
        "outputId": "c3964ee4-da7d-4f36-b989-8f98f4d8ce0f"
      },
      "outputs": [
        {
          "name": "stdout",
          "output_type": "stream",
          "text": [
            "When x is 2, x+2 is 4\n"
          ]
        }
      ],
      "source": [
        "#Given following variable, how do I output following? \n",
        "# When x is 2, x+2 is 4.\n",
        "x = 2\n",
        "#type your code here\n",
        "print('When x is {}, x+2 is {}'.format(x,x+2))"
      ]
    },
    {
      "cell_type": "code",
      "execution_count": null,
      "metadata": {
        "colab": {
          "base_uri": "https://localhost:8080/",
          "height": 35
        },
        "id": "h1D97eXr198t",
        "outputId": "91def7b0-fe4c-4e42-9882-3f2d6cefe4da"
      },
      "outputs": [
        {
          "data": {
            "application/vnd.google.colaboratory.intrinsic+json": {
              "type": "string"
            },
            "text/plain": [
              "'nohtyP evol I'"
            ]
          },
          "execution_count": 2,
          "metadata": {},
          "output_type": "execute_result"
        }
      ],
      "source": [
        "#Challenge question: How to reverse all the letters in the word?\n",
        "word = 'I love Python'\n",
        "#expected result: nohtyP evol I\n",
        "#type your code here\n",
        "word[::-1]"
      ]
    },
    {
      "cell_type": "code",
      "execution_count": null,
      "metadata": {
        "colab": {
          "base_uri": "https://localhost:8080/"
        },
        "id": "zLNBjQHo2t52",
        "outputId": "f1704832-aaf1-4f0e-9c17-bfe252bdf131"
      },
      "outputs": [
        {
          "data": {
            "text/plain": [
              "34"
            ]
          },
          "execution_count": 8,
          "metadata": {},
          "output_type": "execute_result"
        }
      ],
      "source": [
        "birth_year = 1988\n",
        "this_year = 2022\n",
        "\n",
        "### Type your code here...\n",
        "# calculate the age\n",
        "this_year - birth_year"
      ]
    },
    {
      "cell_type": "code",
      "execution_count": null,
      "metadata": {
        "colab": {
          "base_uri": "https://localhost:8080/"
        },
        "id": "gv3tHHSE2t53",
        "outputId": "a60ec584-377b-4fea-fc4d-b15ed5b42fd5"
      },
      "outputs": [
        {
          "data": {
            "text/plain": [
              "False"
            ]
          },
          "execution_count": 9,
          "metadata": {},
          "output_type": "execute_result"
        }
      ],
      "source": [
        "# Is it true that my age is now 30 years old? How do I write in Python?\n",
        "\n",
        "# your code here...\n",
        "my_age = 38\n",
        "my_age == 30"
      ]
    },
    {
      "cell_type": "code",
      "execution_count": null,
      "metadata": {
        "colab": {
          "base_uri": "https://localhost:8080/"
        },
        "id": "JswU218s2t53",
        "outputId": "59bd8983-b6b9-4465-b9c2-f67feac3eb74"
      },
      "outputs": [
        {
          "data": {
            "text/plain": [
              "False"
            ]
          },
          "execution_count": 12,
          "metadata": {},
          "output_type": "execute_result"
        }
      ],
      "source": [
        "#How do I check if 843 is divisible by 9?\n",
        "\n",
        "#type your code here\n",
        "(843 % 9) == 0"
      ]
    },
    {
      "cell_type": "markdown",
      "metadata": {
        "id": "1trw6SzV3B9R"
      },
      "source": [
        "## Lab Exercise #3"
      ]
    },
    {
      "cell_type": "code",
      "execution_count": null,
      "metadata": {
        "colab": {
          "base_uri": "https://localhost:8080/"
        },
        "id": "h5ry50bN3w7O",
        "outputId": "7f7ede51-7680-44af-dca1-ad0dd803a4aa"
      },
      "outputs": [
        {
          "name": "stdout",
          "output_type": "stream",
          "text": [
            "30\n",
            "20\n",
            "b is smaller than a\n"
          ]
        }
      ],
      "source": [
        "#1. Resolve error\n",
        "#1. Check this condition based on the input number\n",
        "\n",
        "a = int(input())\n",
        "b = int(input())\n",
        "if b > a:\n",
        "  print(\"b is greater than a\")\n",
        "elif b == a:\n",
        "  print(\"b is equal to a\")\n",
        "else:\n",
        "  print(\"b is smaller than a\")"
      ]
    },
    {
      "cell_type": "code",
      "execution_count": null,
      "metadata": {
        "colab": {
          "base_uri": "https://localhost:8080/"
        },
        "id": "PqAthuMG3w7P",
        "outputId": "9301fd30-a8df-49b7-ecfa-0f6242bce92d"
      },
      "outputs": [
        {
          "output_type": "stream",
          "name": "stdout",
          "text": [
            "contoh: jika ingin menampilkan sampai march maka input batas angka 3\n",
            "Batas output: 3\n",
            "January\n",
            "February\n",
            "March\n"
          ]
        }
      ],
      "source": [
        "# 2. Make a program that lists the months in the set below using a while loop.\n",
        "# 2. Make a program that lists the months in the set until March\n",
        "mlist = [\"January\",\"February\",\"March\",\"April\",\"May\",\"June\",\"July\",\"August\",\"September\",\"October\",\"November\",\"Desember\"]\n",
        "i=0\n",
        "print(\"contoh: jika ingin menampilkan sampai march maka input batas angka 3\")\n",
        "batas=int(input(\"Batas output: \"))\n",
        "while i < batas:\n",
        "  print(mlist[i])\n",
        "  i+=1"
      ]
    },
    {
      "cell_type": "code",
      "execution_count": null,
      "metadata": {
        "colab": {
          "base_uri": "https://localhost:8080/"
        },
        "id": "sOtErPbN3w7P",
        "outputId": "d97e0667-5985-4fbc-f97e-ad4fe2bb8ae8"
      },
      "outputs": [
        {
          "output_type": "stream",
          "name": "stdout",
          "text": [
            "1\n",
            "3\n",
            "5\n",
            "7\n",
            "9\n",
            "11\n",
            "13\n",
            "15\n",
            "17\n",
            "19\n",
            "21\n",
            "23\n",
            "25\n",
            "27\n",
            "29\n",
            "31\n",
            "33\n",
            "35\n",
            "37\n",
            "39\n",
            "41\n",
            "43\n",
            "45\n",
            "47\n",
            "49\n",
            "51\n",
            "53\n",
            "55\n",
            "57\n",
            "59\n",
            "61\n",
            "63\n",
            "65\n",
            "67\n",
            "69\n",
            "71\n",
            "73\n",
            "75\n",
            "77\n",
            "79\n",
            "81\n",
            "83\n",
            "85\n",
            "87\n",
            "89\n",
            "91\n",
            "93\n",
            "95\n",
            "97\n",
            "99\n"
          ]
        }
      ],
      "source": [
        "#3. Make a program to print even numbers till 100\n",
        "#3. Make a program to print odd numbers till 100\n",
        "for i in range(101):\n",
        "  if i % 2 != 0:\n",
        "    print(i)"
      ]
    },
    {
      "cell_type": "markdown",
      "metadata": {
        "id": "B3ZZ3Gji6k6p"
      },
      "source": [
        "## Lab Exercise #4"
      ]
    },
    {
      "cell_type": "code",
      "execution_count": null,
      "metadata": {
        "colab": {
          "base_uri": "https://localhost:8080/"
        },
        "id": "_JEvLb2X6Jd0",
        "outputId": "c922b0e5-20c7-4c8a-b671-2a7d98fc4635"
      },
      "outputs": [
        {
          "name": "stdout",
          "output_type": "stream",
          "text": [
            "I love Python\n"
          ]
        }
      ],
      "source": [
        "#1. Create and call a function which takes a parameter of text and prints/output it -  \n",
        "# Expected result of my_func(\"I love Python\")\n",
        "#'I love Python'\n",
        "def my_print(text):\n",
        "  print(text)\n",
        "\n",
        "my_print('I love Python')"
      ]
    },
    {
      "cell_type": "code",
      "execution_count": null,
      "metadata": {
        "colab": {
          "base_uri": "https://localhost:8080/"
        },
        "id": "xXMPb1YO3bPS",
        "outputId": "c4cf974c-96f2-450d-ee22-52c90eae6eac"
      },
      "outputs": [
        {
          "name": "stdout",
          "output_type": "stream",
          "text": [
            "11\n"
          ]
        }
      ],
      "source": [
        "#2. Create a function which returns the sum of 2 values.\n",
        "#   Sample Code below - \n",
        "\n",
        "def my_sum_func(x,y):\n",
        "  sum = x+y\n",
        "  return sum\n",
        "\n",
        "print(my_sum_func(5,6))"
      ]
    }
  ],
  "metadata": {
    "colab": {
      "collapsed_sections": [],
      "provenance": [],
      "toc_visible": true
    },
    "kernelspec": {
      "display_name": "Python 3",
      "language": "python",
      "name": "python3"
    },
    "language_info": {
      "codemirror_mode": {
        "name": "ipython",
        "version": 3
      },
      "file_extension": ".py",
      "mimetype": "text/x-python",
      "name": "python",
      "nbconvert_exporter": "python",
      "pygments_lexer": "ipython3",
      "version": "3.7.3"
    }
  },
  "nbformat": 4,
  "nbformat_minor": 0
}