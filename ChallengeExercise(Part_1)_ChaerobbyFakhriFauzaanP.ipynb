{
  "nbformat": 4,
  "nbformat_minor": 0,
  "metadata": {
    "colab": {
      "provenance": [],
      "collapsed_sections": [],
      "toc_visible": true
    },
    "kernelspec": {
      "name": "python3",
      "display_name": "Python 3"
    },
    "language_info": {
      "name": "python"
    }
  },
  "cells": [
    {
      "cell_type": "markdown",
      "source": [
        "#Demo"
      ],
      "metadata": {
        "id": "vvJT95L5ftv6"
      }
    },
    {
      "cell_type": "code",
      "source": [
        "first_glass, second_glass = input(\"Glass: \").split()\n",
        "\n",
        "temp = first_glass\n",
        "first_glass = second_glass\n",
        "second_glass = temp\n",
        "print(f'My first glass is {first_glass} and second glass is {second_glass}')\n"
      ],
      "metadata": {
        "colab": {
          "base_uri": "https://localhost:8080/"
        },
        "id": "R8ALdTVkfw7J",
        "outputId": "14d20491-5666-4361-8502-bc00471af30b"
      },
      "execution_count": null,
      "outputs": [
        {
          "output_type": "stream",
          "name": "stdout",
          "text": [
            "Glass: Teh Kopi\n",
            "My first glass is Kopi and second glass is Teh\n"
          ]
        }
      ]
    },
    {
      "cell_type": "code",
      "source": [
        "my_list = [1,2,3,4,5,6,7,8,9,10]\n",
        "total = 0\n",
        "\n",
        "for i in my_list:\n",
        "  total=total+i\n",
        "print(total)"
      ],
      "metadata": {
        "colab": {
          "base_uri": "https://localhost:8080/"
        },
        "id": "yMPNnizAxWZr",
        "outputId": "c0aecfe0-4665-41f1-ed1d-b2a0cfd769cb"
      },
      "execution_count": null,
      "outputs": [
        {
          "output_type": "stream",
          "name": "stdout",
          "text": [
            "55\n"
          ]
        }
      ]
    },
    {
      "cell_type": "code",
      "source": [
        "x = int(input())\n",
        "\n",
        "for i in range(1,x+1):\n",
        "  for j in range(i):\n",
        "    print('*', end =\"\")\n",
        "  print('')"
      ],
      "metadata": {
        "colab": {
          "base_uri": "https://localhost:8080/"
        },
        "id": "5Z3EqylfzgKL",
        "outputId": "379675cc-44af-4368-db16-10ec89de4674"
      },
      "execution_count": null,
      "outputs": [
        {
          "output_type": "stream",
          "name": "stdout",
          "text": [
            "3\n",
            "*\n",
            "**\n",
            "***\n"
          ]
        }
      ]
    },
    {
      "cell_type": "markdown",
      "source": [
        "#Challenge"
      ],
      "metadata": {
        "id": "huQv2Yecfg_F"
      }
    },
    {
      "cell_type": "markdown",
      "source": [
        "##Challenge 1"
      ],
      "metadata": {
        "id": "q8-MKTTifpV7"
      }
    },
    {
      "cell_type": "code",
      "source": [
        "a, b, c = input().split()\n",
        "## Input 2 3 1 \n",
        "## Output A : 3, B : 2, C : 1\n",
        "\n",
        "## Input 1 3 2\n",
        "## Output A : 3, B : 2, C : 1\n",
        "\n",
        "## Input 1 2 3\n",
        "## Output A : 3, B : 2, C : 1\n",
        "\n",
        "## Input 3 1 2\n",
        "## Output A : 3, B : 2, C : 1\n",
        "\n",
        "## Input 2 1 3\n",
        "## Output A : 3, B : 2, C : 1\n",
        "\n",
        "## code goes here\n",
        "\n",
        "print(f'A : {a}, B : {b}, C : {c}')"
      ],
      "metadata": {
        "colab": {
          "base_uri": "https://localhost:8080/"
        },
        "id": "Y1QPBg_yiou1",
        "outputId": "85cde574-92e0-4231-a9f2-4ff48c99cf6d"
      },
      "execution_count": null,
      "outputs": [
        {
          "output_type": "stream",
          "name": "stdout",
          "text": [
            "2 3 1\n",
            "A : 2, B : 3, C : 1\n"
          ]
        }
      ]
    },
    {
      "cell_type": "markdown",
      "source": [
        "Berdasarkan problem soal nomor 1, tentukan jenis segitiga yang diinput:\n",
        "*   Sisi Terpanjang^2 = Sisi pertama^2 + Sisi Kedua^2 (Segitiga siku-siku)\n",
        "*   Sisi Terpanjang^2 < Sisi pertama^2 + Sisi Kedua^2 (Segitiga lancip)\n",
        "*   Sisi Terpanjang^2 > Sisi pertama^2 + Sisi Kedua^2 (Segitiga tumpul)"
      ],
      "metadata": {
        "id": "jZ0JRzhY3fiW"
      }
    },
    {
      "cell_type": "code",
      "source": [
        "a, b, c = [int(a) for a in input().split()]  \n",
        "sisiterpanjang=\"\"\n",
        "sisi1=\"\"\n",
        "sisi2=\"\"\n",
        "print(f'A : {a}, B : {b}, C : {c}')\n",
        "if a > b and a > c:\n",
        "  sisiterpanjang=a\n",
        "  sisi1=b\n",
        "  sisi2=c\n",
        "  if(((sisi1**2)+(sisi2**2))==(sisiterpanjang**2)):\n",
        "    print(\"Output: segitiga siku-siku\")\n",
        "  elif(((sisi1**2)+(sisi2**2))<(sisiterpanjang**2)):\n",
        "    print(\"Output: segitiga tumpul\")\n",
        "  elif(((sisi1**2)+(sisi2**2))>(sisiterpanjang**2)):\n",
        "    print(\"Output: segitiga lancip\")\n",
        "elif b > a and b > c:\n",
        "  sisiterpanjang=b\n",
        "  sisi1=a\n",
        "  sisi2=c\n",
        "  if(((sisi1**2)+(sisi2**2))==(sisiterpanjang**2)):\n",
        "    print(\"Output: segitiga siku-siku\")\n",
        "  elif(((sisi1**2)+(sisi2**2))<(sisiterpanjang**2)):\n",
        "    print(\"Output: segitiga tumpul\")\n",
        "  elif(((sisi1**2)+(sisi2**2))>(sisiterpanjang**2)):\n",
        "    print(\"Output: segitiga lancip\")\n",
        "else:\n",
        "  sisiterpanjang=c\n",
        "  sisi1=a\n",
        "  sisi2=b\n",
        "  if(((sisi1**2)+(sisi2**2))==(sisiterpanjang**2)):\n",
        "    print(\"Output: segitiga siku-siku\")\n",
        "  elif(((sisi1**2)+(sisi2**2))<(sisiterpanjang**2)):\n",
        "    print(\"Output: segitiga tumpul\")\n",
        "  elif(((sisi1**2)+(sisi2**2))>(sisiterpanjang**2)):\n",
        "    print(\"Output: segitiga lancip\")\n",
        "\n",
        "\n",
        "## 4 3 2\n",
        "## A : 4, B : 3, C : 2\n",
        "## segitiga tumpul\n",
        "\n",
        "## 3 4 2\n",
        "## A : 4, B : 3, C : 2\n",
        "## segitiga tumpul\n",
        "\n",
        "## 4 2 3\n",
        "## A : 4, B : 3, C : 2\n",
        "## segitiga tumpul\n",
        "\n",
        "## 2 4 3\n",
        "## A : 4, B : 3, C : 2\n",
        "## segitiga tumpul\n",
        "\n",
        "\n",
        "## 3 4 5\n",
        "## A : 5, B : 4, C : 3\n",
        "## segitiga siku-siku\n",
        "\n",
        "## 4 3 5\n",
        "## A : 5, B : 4, C : 3\n",
        "## segitiga siku-siku\n",
        "\n",
        "\n",
        "## 1 3 3\n",
        "## A : 3, B : 3, C : 1\n",
        "## segitiga lancip\n",
        "\n",
        "## 3 3 1\n",
        "## A : 3, B : 3, C : 1\n",
        "## segitiga lancip\n",
        "\n",
        "## 3 1 3\n",
        "## A : 3, B : 3, C : 1\n",
        "## segitiga lancip"
      ],
      "metadata": {
        "id": "LV40zx9-2Qvx",
        "colab": {
          "base_uri": "https://localhost:8080/"
        },
        "outputId": "66f7a6f4-9769-44ef-a821-c6dd188e590d"
      },
      "execution_count": 1,
      "outputs": [
        {
          "output_type": "stream",
          "name": "stdout",
          "text": [
            "5 3 2\n",
            "A : 5, B : 3, C : 2\n",
            "Output: segitiga tumpul\n"
          ]
        }
      ]
    },
    {
      "cell_type": "code",
      "source": [
        "my_list = [1,2,3,4,5,6,7,8,9,10,11,12,13,14,15,16,17,18,19,20]\n",
        "## Output Odd number 10 and even number 10"
      ],
      "metadata": {
        "id": "s5YUdf5GyEa5"
      },
      "execution_count": null,
      "outputs": []
    },
    {
      "cell_type": "code",
      "source": [
        "x = int(input())\n",
        "## Input 4\n",
        "## ****\n",
        "## ***\n",
        "## **\n",
        "## *\n",
        "\n",
        "## Input 5\n",
        "## *****\n",
        "## ****\n",
        "## ***\n",
        "## **\n",
        "## *"
      ],
      "metadata": {
        "colab": {
          "base_uri": "https://localhost:8080/"
        },
        "id": "6BTN0oyf1I31",
        "outputId": "50a9065c-0ea7-4769-8c67-2ffeb21aa4e4"
      },
      "execution_count": null,
      "outputs": [
        {
          "output_type": "stream",
          "name": "stdout",
          "text": [
            "5\n",
            "*****\n",
            "****\n",
            "***\n",
            "**\n",
            "*\n"
          ]
        }
      ]
    },
    {
      "cell_type": "code",
      "source": [
        "x = int(input())\n",
        "\n",
        "## Input 1\n",
        "## Output [0]\n",
        "\n",
        "## Input 3\n",
        "## Output [0,1,1]\n",
        "\n",
        "## Input 4\n",
        "## Output [0, 1, 1, 2]\n",
        "\n",
        "## Input 5\n",
        "## Output [0, 1, 1, 2, 3]\n",
        "\n",
        "## Input 8\n",
        "## Output [0, 1, 1, 2, 3, 5, 8, 13]"
      ],
      "metadata": {
        "colab": {
          "base_uri": "https://localhost:8080/"
        },
        "id": "uMEymGKmvZia",
        "outputId": "76ebe78c-bc40-484c-a7fb-90d517aae461"
      },
      "execution_count": null,
      "outputs": [
        {
          "output_type": "stream",
          "name": "stdout",
          "text": [
            "8\n",
            "[0, 1, 1, 2, 3, 5, 8, 13]\n"
          ]
        }
      ]
    },
    {
      "cell_type": "code",
      "source": [
        "limit = int(input(\"Input \"))\n",
        "num1 = 0\n",
        "num2 = 1\n",
        "for z in range(0,limit): \n",
        "  if(z<=1): \n",
        "    num3 = z\n",
        "  else: \n",
        "    num3 = num1+num2 \n",
        "    num1 = num2\n",
        "    num2 = num3\n",
        "  print(num3,end=\" \") "
      ],
      "metadata": {
        "colab": {
          "base_uri": "https://localhost:8080/"
        },
        "id": "ki8cIsHuU8d-",
        "outputId": "019646c5-25f8-4d24-b1ab-f77772d45e35"
      },
      "execution_count": 2,
      "outputs": [
        {
          "output_type": "stream",
          "name": "stdout",
          "text": [
            "Input 9\n",
            "0 1 1 2 3 5 8 13 21 "
          ]
        }
      ]
    }
  ]
}