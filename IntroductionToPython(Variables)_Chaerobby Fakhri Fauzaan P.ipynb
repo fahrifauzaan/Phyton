{
  "nbformat": 4,
  "nbformat_minor": 0,
  "metadata": {
    "colab": {
      "provenance": [],
      "collapsed_sections": [
        "pakuEAEGAi1D"
      ],
      "toc_visible": true
    },
    "kernelspec": {
      "name": "python3",
      "display_name": "Python 3"
    },
    "language_info": {
      "name": "python"
    }
  },
  "cells": [
    {
      "cell_type": "markdown",
      "source": [
        "# Variables\n",
        "Important!! Please make a copy from this version to your own Google Colab.\n",
        "File >> Save a Copy in Drive\n",
        "\n",
        "###Commonly used shortcuts in Notebook -> save time!\n",
        "* Esc + a -> create a new cell above\n",
        "* Esc + b -> create a new cell below\n",
        "* Shift + enter (return) -> run cell\n",
        "* Shift + Tab -> check the properties and variables for a function"
      ],
      "metadata": {
        "id": "I6VNmkaU_ohe"
      }
    },
    {
      "cell_type": "markdown",
      "source": [
        "### Numbers\n",
        "\n",
        "\n",
        "*   Integer (whole number)\n",
        "*   Float (decimal number)\n",
        "\n"
      ],
      "metadata": {
        "id": "aUooRKc_oNJY"
      }
    },
    {
      "cell_type": "code",
      "metadata": {
        "id": "v8zLrKTdhBKT",
        "colab": {
          "base_uri": "https://localhost:8080/"
        },
        "outputId": "355afd22-7c0b-468e-e6fb-c67dbde54a88"
      },
      "source": [
        "1 #this is integer"
      ],
      "execution_count": null,
      "outputs": [
        {
          "output_type": "execute_result",
          "data": {
            "text/plain": [
              "1"
            ]
          },
          "metadata": {},
          "execution_count": 1
        }
      ]
    },
    {
      "cell_type": "code",
      "source": [
        "1.534 #this is float"
      ],
      "metadata": {
        "colab": {
          "base_uri": "https://localhost:8080/"
        },
        "id": "7jZgS16tpfUA",
        "outputId": "3647eaf1-494a-45f7-85a9-7bd5500b4bd6"
      },
      "execution_count": null,
      "outputs": [
        {
          "output_type": "execute_result",
          "data": {
            "text/plain": [
              "1.534"
            ]
          },
          "metadata": {},
          "execution_count": 2
        }
      ]
    },
    {
      "cell_type": "code",
      "source": [
        "type(1)"
      ],
      "metadata": {
        "colab": {
          "base_uri": "https://localhost:8080/"
        },
        "id": "SSjZpOK3pjQR",
        "outputId": "84830d20-443e-49e3-cca3-c169d7202026"
      },
      "execution_count": null,
      "outputs": [
        {
          "output_type": "execute_result",
          "data": {
            "text/plain": [
              "int"
            ]
          },
          "metadata": {},
          "execution_count": 8
        }
      ]
    },
    {
      "cell_type": "code",
      "source": [
        "type(1.534)"
      ],
      "metadata": {
        "colab": {
          "base_uri": "https://localhost:8080/"
        },
        "id": "P4yafZlNpkdq",
        "outputId": "d4666dd6-1967-44ef-aeba-77c2222f0f4f"
      },
      "execution_count": null,
      "outputs": [
        {
          "output_type": "execute_result",
          "data": {
            "text/plain": [
              "float"
            ]
          },
          "metadata": {},
          "execution_count": 8
        }
      ]
    },
    {
      "cell_type": "markdown",
      "metadata": {
        "id": "J97luSvRhBKx"
      },
      "source": [
        "### Strings"
      ]
    },
    {
      "cell_type": "code",
      "metadata": {
        "id": "0O-Pz8YChBKx",
        "colab": {
          "base_uri": "https://localhost:8080/",
          "height": 36
        },
        "outputId": "031db4c8-65b7-4b25-a09f-5d23b87bd3bd"
      },
      "source": [
        "'single quotes'"
      ],
      "execution_count": null,
      "outputs": [
        {
          "output_type": "execute_result",
          "data": {
            "text/plain": [
              "'single quotes'"
            ],
            "application/vnd.google.colaboratory.intrinsic+json": {
              "type": "string"
            }
          },
          "metadata": {},
          "execution_count": 2
        }
      ]
    },
    {
      "cell_type": "code",
      "metadata": {
        "id": "MXGoorNIhBK1",
        "colab": {
          "base_uri": "https://localhost:8080/",
          "height": 36
        },
        "outputId": "2f275ab6-47ee-4b9f-918a-7ce121002010"
      },
      "source": [
        "\"double quotes\""
      ],
      "execution_count": null,
      "outputs": [
        {
          "output_type": "execute_result",
          "data": {
            "text/plain": [
              "'double quotes'"
            ],
            "application/vnd.google.colaboratory.intrinsic+json": {
              "type": "string"
            }
          },
          "metadata": {},
          "execution_count": 3
        }
      ]
    },
    {
      "cell_type": "code",
      "metadata": {
        "id": "C3ukk5oMhBK3",
        "colab": {
          "base_uri": "https://localhost:8080/",
          "height": 35
        },
        "outputId": "55310726-439f-43fd-e388-257860866cac"
      },
      "source": [
        "\" wrap lot's of other quotes\""
      ],
      "execution_count": null,
      "outputs": [
        {
          "output_type": "execute_result",
          "data": {
            "text/plain": [
              "\" wrap lot's of other quotes\""
            ],
            "application/vnd.google.colaboratory.intrinsic+json": {
              "type": "string"
            }
          },
          "metadata": {},
          "execution_count": 11
        }
      ]
    },
    {
      "cell_type": "code",
      "source": [
        "word = 'Hello Python!'\n",
        "word.split()"
      ],
      "metadata": {
        "colab": {
          "base_uri": "https://localhost:8080/"
        },
        "id": "AdEhrW1xs39h",
        "outputId": "6a2129d1-e9f0-4857-af7b-dfa5fda6e645"
      },
      "execution_count": null,
      "outputs": [
        {
          "output_type": "execute_result",
          "data": {
            "text/plain": [
              "['Hello', 'Python!']"
            ]
          },
          "metadata": {},
          "execution_count": 1
        }
      ]
    },
    {
      "cell_type": "code",
      "source": [
        "print('''\n",
        "This is\n",
        "for \n",
        "multiple\n",
        "lines\n",
        "''')"
      ],
      "metadata": {
        "colab": {
          "base_uri": "https://localhost:8080/"
        },
        "id": "dQb2kLx77iGB",
        "outputId": "8884a82b-cb34-4e7d-8e6b-564779b353e4"
      },
      "execution_count": null,
      "outputs": [
        {
          "output_type": "stream",
          "name": "stdout",
          "text": [
            "\n",
            "This is\n",
            "for \n",
            "multiple\n",
            "lines\n",
            "\n"
          ]
        }
      ]
    },
    {
      "cell_type": "markdown",
      "metadata": {
        "id": "YEtefqrthBMC"
      },
      "source": [
        "### Booleans"
      ]
    },
    {
      "cell_type": "code",
      "metadata": {
        "id": "aaFcwe7NBXtA"
      },
      "source": [
        "True"
      ],
      "execution_count": null,
      "outputs": []
    },
    {
      "cell_type": "code",
      "metadata": {
        "id": "LKJWt2eoBXtH"
      },
      "source": [
        "False"
      ],
      "execution_count": null,
      "outputs": []
    },
    {
      "cell_type": "markdown",
      "metadata": {
        "id": "JbB1tAkthBKl"
      },
      "source": [
        "### Variable Assignment\n",
        "\n",
        "Rules for Python variables:\n",
        "* A variable name must start with a letter or the underscore character\n",
        "* A variable name cannot start with a number\n",
        "* A variable name can only contain alpha-numeric characters and underscores (A-z, 0-9, and _ )\n",
        "* Variable names are case-sensitive (age, Age and AGE are three different variables)"
      ]
    },
    {
      "cell_type": "code",
      "metadata": {
        "id": "q6OvLKCahBKm",
        "colab": {
          "base_uri": "https://localhost:8080/"
        },
        "outputId": "15d6f57b-f55e-4af9-be15-3d07934a9782"
      },
      "source": [
        "# Can not start with number or special characters, no space allowed\n",
        "name_of_var = 2\n",
        "NameOfVar = 3\n",
        "print(name_of_var)\n",
        "print(NameOfVar)"
      ],
      "execution_count": null,
      "outputs": [
        {
          "output_type": "stream",
          "name": "stdout",
          "text": [
            "2\n",
            "3\n"
          ]
        }
      ]
    },
    {
      "cell_type": "code",
      "metadata": {
        "id": "SkMTW9bahBKo"
      },
      "source": [
        "x = 2\n",
        "y = 3"
      ],
      "execution_count": null,
      "outputs": []
    },
    {
      "cell_type": "code",
      "metadata": {
        "id": "rwh86O7ihBKr"
      },
      "source": [
        "z = x + y"
      ],
      "execution_count": null,
      "outputs": []
    },
    {
      "cell_type": "code",
      "metadata": {
        "id": "zjZio5MphBKu",
        "colab": {
          "base_uri": "https://localhost:8080/"
        },
        "outputId": "f94e1ef4-69bf-4d8e-de1e-d5ecc996314c"
      },
      "source": [
        "z"
      ],
      "execution_count": null,
      "outputs": [
        {
          "output_type": "execute_result",
          "data": {
            "text/plain": [
              "5"
            ]
          },
          "metadata": {},
          "execution_count": 18
        }
      ]
    },
    {
      "cell_type": "code",
      "metadata": {
        "id": "6SMlwm9chBME",
        "colab": {
          "base_uri": "https://localhost:8080/"
        },
        "outputId": "d9d71612-92f9-4fa1-a18e-fc163fd1e8ad"
      },
      "source": [
        "True"
      ],
      "execution_count": null,
      "outputs": [
        {
          "output_type": "execute_result",
          "data": {
            "text/plain": [
              "True"
            ]
          },
          "metadata": {},
          "execution_count": 19
        }
      ]
    },
    {
      "cell_type": "code",
      "metadata": {
        "id": "O5qbU_LnhBMH",
        "colab": {
          "base_uri": "https://localhost:8080/"
        },
        "outputId": "9db991b4-321b-45a6-b77b-be81b04b8131"
      },
      "source": [
        "False"
      ],
      "execution_count": null,
      "outputs": [
        {
          "output_type": "execute_result",
          "data": {
            "text/plain": [
              "False"
            ]
          },
          "metadata": {},
          "execution_count": 20
        }
      ]
    },
    {
      "cell_type": "markdown",
      "metadata": {
        "id": "geNI3gDjhBLR"
      },
      "source": [
        "### Lists\n",
        "List can contain any and every data types mixed. "
      ]
    },
    {
      "cell_type": "markdown",
      "source": [
        "#### Creating a list"
      ],
      "metadata": {
        "id": "hfuG8Xd93Eq3"
      }
    },
    {
      "cell_type": "code",
      "metadata": {
        "id": "AleBLnw3hBLS",
        "colab": {
          "base_uri": "https://localhost:8080/"
        },
        "outputId": "59cf3ef4-77d7-469e-a63f-9a0ddb802c74"
      },
      "source": [
        "[1,2,3]"
      ],
      "execution_count": null,
      "outputs": [
        {
          "output_type": "execute_result",
          "data": {
            "text/plain": [
              "[1, 2, 3]"
            ]
          },
          "metadata": {},
          "execution_count": 13
        }
      ]
    },
    {
      "cell_type": "code",
      "metadata": {
        "id": "Vzi3eVEnhBLT",
        "colab": {
          "base_uri": "https://localhost:8080/"
        },
        "outputId": "921c1748-7d39-4cae-dad1-6d20d570f5be"
      },
      "source": [
        "['hi',1,[1,2]]"
      ],
      "execution_count": null,
      "outputs": [
        {
          "output_type": "execute_result",
          "data": {
            "text/plain": [
              "['hi', 1, [1, 2]]"
            ]
          },
          "metadata": {},
          "execution_count": 6
        }
      ]
    },
    {
      "cell_type": "code",
      "source": [
        "ls = list()\n",
        "ls2 = []"
      ],
      "metadata": {
        "id": "vw9bGoPp3RUu"
      },
      "execution_count": null,
      "outputs": []
    },
    {
      "cell_type": "code",
      "metadata": {
        "id": "bopV_kdahBLW",
        "colab": {
          "base_uri": "https://localhost:8080/"
        },
        "outputId": "ebc3a331-d510-4224-99a0-ef841008f1f0"
      },
      "source": [
        "my_list = ['a','b','c']\n",
        "my_list"
      ],
      "execution_count": null,
      "outputs": [
        {
          "output_type": "execute_result",
          "data": {
            "text/plain": [
              "['a', 'b', 'c']"
            ]
          },
          "metadata": {},
          "execution_count": 16
        }
      ]
    },
    {
      "cell_type": "code",
      "source": [
        "# List can be used to iterate on the letters in a string.\n",
        "my_word = list('I love Python')\n",
        "my_word"
      ],
      "metadata": {
        "colab": {
          "base_uri": "https://localhost:8080/"
        },
        "id": "BE4va_aEsXf4",
        "outputId": "32325720-864a-43e3-e6a4-c08018a63324"
      },
      "execution_count": null,
      "outputs": [
        {
          "output_type": "execute_result",
          "data": {
            "text/plain": [
              "['I', ' ', 'l', 'o', 'v', 'e', ' ', 'P', 'y', 't', 'h', 'o', 'n']"
            ]
          },
          "metadata": {},
          "execution_count": 13
        }
      ]
    },
    {
      "cell_type": "code",
      "source": [
        "my_word = 'I love Python'\n",
        "my_word.split() #will return a list with separated word. Delimiter by default is ' '"
      ],
      "metadata": {
        "colab": {
          "base_uri": "https://localhost:8080/"
        },
        "id": "5dY0YdgxzGcH",
        "outputId": "a3c71d03-f30f-4b29-ceb9-e5f32407e707"
      },
      "execution_count": null,
      "outputs": [
        {
          "output_type": "execute_result",
          "data": {
            "text/plain": [
              "['I', 'love', 'Python']"
            ]
          },
          "metadata": {},
          "execution_count": 31
        }
      ]
    },
    {
      "cell_type": "markdown",
      "source": [
        "#### Reading and slicing from a list\n",
        "\n",
        "*  list[start:end:step]\n",
        "*  index starts from 0 in Python. \n",
        "*  Remember that start is inclusive and end is exclusive. This applies to everywhere in Python for slicing. \n",
        "\n",
        "\n"
      ],
      "metadata": {
        "id": "iRbsNaz63Z8I"
      }
    },
    {
      "cell_type": "code",
      "metadata": {
        "id": "mW5wNavahBLg",
        "colab": {
          "base_uri": "https://localhost:8080/"
        },
        "outputId": "edad809a-0028-44f7-e26e-d71dc439c94a"
      },
      "source": [
        "my_list = [0,1,2,3,4]\n",
        "my_list[0] #this calls the first element of my_list"
      ],
      "execution_count": null,
      "outputs": [
        {
          "output_type": "execute_result",
          "data": {
            "text/plain": [
              "0"
            ]
          },
          "metadata": {},
          "execution_count": 15
        }
      ]
    },
    {
      "cell_type": "code",
      "metadata": {
        "id": "M9_3bBXthBLj",
        "colab": {
          "base_uri": "https://localhost:8080/",
          "height": 35
        },
        "outputId": "f3dc857a-0787-4617-c6ff-d46d0cdba1cd"
      },
      "source": [
        "my_list[1] #this calls second element of my_list"
      ],
      "execution_count": null,
      "outputs": [
        {
          "output_type": "execute_result",
          "data": {
            "text/plain": [
              "'b'"
            ],
            "application/vnd.google.colaboratory.intrinsic+json": {
              "type": "string"
            }
          },
          "metadata": {},
          "execution_count": 9
        }
      ]
    },
    {
      "cell_type": "code",
      "metadata": {
        "id": "Nm1cfjHwhBLk",
        "colab": {
          "base_uri": "https://localhost:8080/"
        },
        "outputId": "d2c9e8ab-8032-4071-b6e2-781c6eee57e9"
      },
      "source": [
        "my_list[1:] #this calls second element and thereafter"
      ],
      "execution_count": null,
      "outputs": [
        {
          "output_type": "execute_result",
          "data": {
            "text/plain": [
              "['b', 'c']"
            ]
          },
          "metadata": {},
          "execution_count": 10
        }
      ]
    },
    {
      "cell_type": "code",
      "metadata": {
        "id": "_Wg-b9c3hBLn",
        "colab": {
          "base_uri": "https://localhost:8080/"
        },
        "outputId": "f3aff383-09fb-49d1-e1ed-44f42f5e0fa2"
      },
      "source": [
        "my_list[:1] #this calls all the elements up to before index 1"
      ],
      "execution_count": null,
      "outputs": [
        {
          "output_type": "execute_result",
          "data": {
            "text/plain": [
              "['a']"
            ]
          },
          "metadata": {},
          "execution_count": 11
        }
      ]
    },
    {
      "cell_type": "code",
      "source": [
        "my_list[::-1] # this call to reverse all my list"
      ],
      "metadata": {
        "colab": {
          "base_uri": "https://localhost:8080/"
        },
        "id": "xU05JZm2HvZx",
        "outputId": "015b6006-a273-45d7-9a1c-7c41b4874755"
      },
      "execution_count": null,
      "outputs": [
        {
          "output_type": "execute_result",
          "data": {
            "text/plain": [
              "['d', 'LIST2', 'NEW']"
            ]
          },
          "metadata": {},
          "execution_count": 68
        }
      ]
    },
    {
      "cell_type": "code",
      "source": [
        "my_word[-3:-1]"
      ],
      "metadata": {
        "colab": {
          "base_uri": "https://localhost:8080/"
        },
        "id": "cHy7CXiaYN0J",
        "outputId": "a82b9446-b543-4199-bc30-80e9ba56fa8a"
      },
      "execution_count": null,
      "outputs": [
        {
          "output_type": "execute_result",
          "data": {
            "text/plain": [
              "['h', 'o']"
            ]
          },
          "metadata": {},
          "execution_count": 22
        }
      ]
    },
    {
      "cell_type": "code",
      "metadata": {
        "id": "cBDCD4fthBLv"
      },
      "source": [
        "nest = [1,2,3,[4,5,['target']]]"
      ],
      "execution_count": null,
      "outputs": []
    },
    {
      "cell_type": "code",
      "metadata": {
        "id": "UuWdPaJ5hBLy",
        "colab": {
          "base_uri": "https://localhost:8080/"
        },
        "outputId": "18c88726-0669-47b2-9b38-8447a93a1fab"
      },
      "source": [
        "nest[3]"
      ],
      "execution_count": null,
      "outputs": [
        {
          "output_type": "execute_result",
          "data": {
            "text/plain": [
              "[4, 5, ['target']]"
            ]
          },
          "metadata": {},
          "execution_count": 20
        }
      ]
    },
    {
      "cell_type": "code",
      "metadata": {
        "id": "6JHcVLWHhBLz",
        "colab": {
          "base_uri": "https://localhost:8080/"
        },
        "outputId": "d5265389-b4c2-41d2-bb1b-3dda938c47bc"
      },
      "source": [
        "nest[3][2]"
      ],
      "execution_count": null,
      "outputs": [
        {
          "output_type": "execute_result",
          "data": {
            "text/plain": [
              "['target']"
            ]
          },
          "metadata": {},
          "execution_count": 22
        }
      ]
    },
    {
      "cell_type": "code",
      "metadata": {
        "id": "Er1cJM7DhBL1",
        "colab": {
          "base_uri": "https://localhost:8080/",
          "height": 35
        },
        "outputId": "340c564a-dbf9-46f9-8ff9-8010d0eddcac"
      },
      "source": [
        "nest[3][2][0]"
      ],
      "execution_count": null,
      "outputs": [
        {
          "output_type": "execute_result",
          "data": {
            "text/plain": [
              "'target'"
            ],
            "application/vnd.google.colaboratory.intrinsic+json": {
              "type": "string"
            }
          },
          "metadata": {},
          "execution_count": 17
        }
      ]
    },
    {
      "cell_type": "markdown",
      "source": [
        "#### Updating List\n",
        "*   list[index] = new_value\n",
        "*   list.append() to add additional element\n",
        "*   list.extend() to unpack and add into the list\n",
        "\n"
      ],
      "metadata": {
        "id": "IJ4zG_pM4N5_"
      }
    },
    {
      "cell_type": "code",
      "metadata": {
        "id": "2hA_asY1hBLp",
        "colab": {
          "base_uri": "https://localhost:8080/"
        },
        "outputId": "f2b9380d-0d00-4b25-86e2-0aee5bfcb01f"
      },
      "source": [
        "my_list = ['LIST1', 'LIST2']\n",
        "my_list[0] = 'NEW' \n",
        "my_list"
      ],
      "execution_count": null,
      "outputs": [
        {
          "output_type": "execute_result",
          "data": {
            "text/plain": [
              "['NEW', 'LIST2']"
            ]
          },
          "metadata": {},
          "execution_count": 24
        }
      ]
    },
    {
      "cell_type": "code",
      "metadata": {
        "id": "WqLMMi9VhBLZ",
        "colab": {
          "base_uri": "https://localhost:8080/"
        },
        "outputId": "116f15db-4e67-4165-ac59-8724faa9366f"
      },
      "source": [
        "my_list.append('d')\n",
        "my_list"
      ],
      "execution_count": null,
      "outputs": [
        {
          "output_type": "execute_result",
          "data": {
            "text/plain": [
              "['NEW', 'LIST2', 'd']"
            ]
          },
          "metadata": {},
          "execution_count": 27
        }
      ]
    },
    {
      "cell_type": "code",
      "source": [
        "my_list.append(['a','b'])\n",
        "my_list"
      ],
      "metadata": {
        "id": "3xPNVucy5mjs"
      },
      "execution_count": null,
      "outputs": []
    },
    {
      "cell_type": "code",
      "source": [
        "my_list.extend(['x','y'])\n",
        "my_list"
      ],
      "metadata": {
        "id": "UAcfZqn95fFN"
      },
      "execution_count": null,
      "outputs": []
    },
    {
      "cell_type": "markdown",
      "source": [
        "#### Deleting Element in List\n",
        "*   list.pop()\n",
        "*   list.remove()\n",
        "\n"
      ],
      "metadata": {
        "id": "mVVWYRF84qoa"
      }
    },
    {
      "cell_type": "code",
      "source": [
        "my_list.pop(0) #return the deleted element and remove it from the list."
      ],
      "metadata": {
        "colab": {
          "base_uri": "https://localhost:8080/",
          "height": 35
        },
        "id": "iPo09OFn5K63",
        "outputId": "3144d923-aa4c-436b-9e55-b2b18c7852c4"
      },
      "execution_count": null,
      "outputs": [
        {
          "output_type": "execute_result",
          "data": {
            "text/plain": [
              "'NEW'"
            ],
            "application/vnd.google.colaboratory.intrinsic+json": {
              "type": "string"
            }
          },
          "metadata": {},
          "execution_count": 36
        }
      ]
    },
    {
      "cell_type": "code",
      "source": [
        "my_list"
      ],
      "metadata": {
        "colab": {
          "base_uri": "https://localhost:8080/"
        },
        "id": "990i9YBQ5-GR",
        "outputId": "90979199-3298-4c8d-f8cb-342ea7c65741"
      },
      "execution_count": null,
      "outputs": [
        {
          "output_type": "execute_result",
          "data": {
            "text/plain": [
              "['b', 'c', 'd', ['a', 'b'], 'x', 'y']"
            ]
          },
          "metadata": {},
          "execution_count": 37
        }
      ]
    },
    {
      "cell_type": "code",
      "source": [
        "my_list.remove('d') #remove element by explicitly mentioning in the method"
      ],
      "metadata": {
        "id": "FNS3z9uJ6JZ-"
      },
      "execution_count": null,
      "outputs": []
    },
    {
      "cell_type": "code",
      "source": [
        "my_list"
      ],
      "metadata": {
        "colab": {
          "base_uri": "https://localhost:8080/"
        },
        "id": "nHFdtnKo6SSD",
        "outputId": "5fd244e0-6697-4f98-aefa-c96ff0f570b3"
      },
      "execution_count": null,
      "outputs": [
        {
          "output_type": "execute_result",
          "data": {
            "text/plain": [
              "['b', 'c', ['a', 'b'], 'x', 'y']"
            ]
          },
          "metadata": {},
          "execution_count": 39
        }
      ]
    },
    {
      "cell_type": "markdown",
      "metadata": {
        "id": "Aw6e-l3_hBL4"
      },
      "source": [
        "### Dictionaries"
      ]
    },
    {
      "cell_type": "markdown",
      "source": [
        "#### Creating Dictionary\n",
        "\n"
      ],
      "metadata": {
        "id": "qfBuVIia6Yy-"
      }
    },
    {
      "cell_type": "code",
      "metadata": {
        "id": "slnB-TyIhBL5",
        "colab": {
          "base_uri": "https://localhost:8080/"
        },
        "outputId": "50496c55-a392-41b4-fc5d-ff6d7d9810c8"
      },
      "source": [
        "d = {'key1':'item1',\n",
        "     'key2':'item2'}\n",
        "d"
      ],
      "execution_count": null,
      "outputs": [
        {
          "output_type": "execute_result",
          "data": {
            "text/plain": [
              "{'key1': 'item1', 'key2': 'item2'}"
            ]
          },
          "metadata": {},
          "execution_count": 25
        }
      ]
    },
    {
      "cell_type": "markdown",
      "source": [
        "#### Reading from Dictionary\n",
        "*   dict['key']\n",
        "*   dict.keys()\n",
        "*   dict.values()\n",
        "\n"
      ],
      "metadata": {
        "id": "azUtm1PD8Hu_"
      }
    },
    {
      "cell_type": "code",
      "metadata": {
        "id": "JYPa3uc9hBMA",
        "colab": {
          "base_uri": "https://localhost:8080/",
          "height": 35
        },
        "outputId": "cdf073f4-3a17-4e5c-a1f0-c2ffb5a4eb84"
      },
      "source": [
        "d['key1']"
      ],
      "execution_count": null,
      "outputs": [
        {
          "output_type": "execute_result",
          "data": {
            "text/plain": [
              "'item1'"
            ],
            "application/vnd.google.colaboratory.intrinsic+json": {
              "type": "string"
            }
          },
          "metadata": {},
          "execution_count": 26
        }
      ]
    },
    {
      "cell_type": "code",
      "source": [
        "d.keys()"
      ],
      "metadata": {
        "colab": {
          "base_uri": "https://localhost:8080/"
        },
        "id": "nC3DsZo-7VSW",
        "outputId": "b6dce722-2bc9-41d5-fda0-d994e69890f3"
      },
      "execution_count": null,
      "outputs": [
        {
          "output_type": "execute_result",
          "data": {
            "text/plain": [
              "dict_keys(['key1', 'key2'])"
            ]
          },
          "metadata": {},
          "execution_count": 27
        }
      ]
    },
    {
      "cell_type": "code",
      "source": [
        "d.values()"
      ],
      "metadata": {
        "colab": {
          "base_uri": "https://localhost:8080/"
        },
        "id": "-YK9NoJ781DA",
        "outputId": "ace08b28-aee7-4ffb-dee7-9e1a32aa9b39"
      },
      "execution_count": null,
      "outputs": [
        {
          "output_type": "execute_result",
          "data": {
            "text/plain": [
              "dict_values(['item1', 'item2'])"
            ]
          },
          "metadata": {},
          "execution_count": 28
        }
      ]
    },
    {
      "cell_type": "markdown",
      "source": [
        "#### Update Dictionary"
      ],
      "metadata": {
        "id": "0RRj0eEG85Fo"
      }
    },
    {
      "cell_type": "code",
      "source": [
        "d['key3']= 'item3' # adding extra key value pair\n",
        "d"
      ],
      "metadata": {
        "colab": {
          "base_uri": "https://localhost:8080/"
        },
        "id": "jWQwO7vf88ym",
        "outputId": "d9fd1ecb-0fd9-45af-867c-712617645643"
      },
      "execution_count": null,
      "outputs": [
        {
          "output_type": "execute_result",
          "data": {
            "text/plain": [
              "{'key1': 'item1', 'key2': 'item2', 'key3': 'item3'}"
            ]
          },
          "metadata": {},
          "execution_count": 29
        }
      ]
    },
    {
      "cell_type": "code",
      "source": [
        "d['key1']='item1_mod' #changing value for key1\n",
        "d"
      ],
      "metadata": {
        "colab": {
          "base_uri": "https://localhost:8080/"
        },
        "id": "3xznVMkN9D7m",
        "outputId": "71ee269b-c6fc-4258-f3c3-f88a19713392"
      },
      "execution_count": null,
      "outputs": [
        {
          "output_type": "execute_result",
          "data": {
            "text/plain": [
              "{'key1': 'item1_mod', 'key2': 'item2', 'key3': 'item3'}"
            ]
          },
          "metadata": {},
          "execution_count": 30
        }
      ]
    },
    {
      "cell_type": "markdown",
      "source": [
        "#### Delete Dictionary Element"
      ],
      "metadata": {
        "id": "SITv1R449MpB"
      }
    },
    {
      "cell_type": "code",
      "source": [
        "del d['key1']"
      ],
      "metadata": {
        "id": "-g8NkNQY9RLO"
      },
      "execution_count": null,
      "outputs": []
    },
    {
      "cell_type": "code",
      "source": [
        "d"
      ],
      "metadata": {
        "colab": {
          "base_uri": "https://localhost:8080/"
        },
        "id": "oKs3XtOkZM71",
        "outputId": "d72d0f7c-4a30-4967-a559-e9c8c3b8d4a5"
      },
      "execution_count": null,
      "outputs": [
        {
          "output_type": "execute_result",
          "data": {
            "text/plain": [
              "{'key2': 'item2', 'key3': 'item3'}"
            ]
          },
          "metadata": {},
          "execution_count": 32
        }
      ]
    },
    {
      "cell_type": "markdown",
      "metadata": {
        "id": "WQgbrGeWhBML"
      },
      "source": [
        "### Tuples \n",
        "This container is immutable. Meaning once created, items cannot be modified or updated."
      ]
    },
    {
      "cell_type": "markdown",
      "source": [
        "#### Creating Tuples"
      ],
      "metadata": {
        "id": "RA8TDUnJ7W1o"
      }
    },
    {
      "cell_type": "code",
      "metadata": {
        "id": "aNT-gl60hBML"
      },
      "source": [
        "t = (1,2,3) # using () for creation."
      ],
      "execution_count": null,
      "outputs": []
    },
    {
      "cell_type": "markdown",
      "source": [
        "#### Reading from Tuples"
      ],
      "metadata": {
        "id": "WedsrB1L7eT0"
      }
    },
    {
      "cell_type": "code",
      "metadata": {
        "id": "2pZxNH0WhBMO",
        "colab": {
          "base_uri": "https://localhost:8080/"
        },
        "outputId": "edb45169-750a-4ba1-ab85-4dfd33ffd452"
      },
      "source": [
        "t[0]"
      ],
      "execution_count": null,
      "outputs": [
        {
          "output_type": "execute_result",
          "data": {
            "text/plain": [
              "1"
            ]
          },
          "metadata": {},
          "execution_count": 7
        }
      ]
    },
    {
      "cell_type": "code",
      "metadata": {
        "id": "pU2hFmVdhBMR",
        "colab": {
          "base_uri": "https://localhost:8080/",
          "height": 166
        },
        "outputId": "58521ea2-fda2-4b62-f090-f5be52ef230d"
      },
      "source": [
        "t[0] = 'NEW'"
      ],
      "execution_count": null,
      "outputs": [
        {
          "output_type": "error",
          "ename": "TypeError",
          "evalue": "ignored",
          "traceback": [
            "\u001b[0;31m---------------------------------------------------------------------------\u001b[0m",
            "\u001b[0;31mTypeError\u001b[0m                                 Traceback (most recent call last)",
            "\u001b[0;32m<ipython-input-8-93bfe9be1549>\u001b[0m in \u001b[0;36m<module>\u001b[0;34m()\u001b[0m\n\u001b[0;32m----> 1\u001b[0;31m \u001b[0mt\u001b[0m\u001b[0;34m[\u001b[0m\u001b[0;36m0\u001b[0m\u001b[0;34m]\u001b[0m \u001b[0;34m=\u001b[0m \u001b[0;34m'NEW'\u001b[0m\u001b[0;34m\u001b[0m\u001b[0;34m\u001b[0m\u001b[0m\n\u001b[0m",
            "\u001b[0;31mTypeError\u001b[0m: 'tuple' object does not support item assignment"
          ]
        }
      ]
    },
    {
      "cell_type": "markdown",
      "source": [
        "#### Delete Tuples"
      ],
      "metadata": {
        "id": "o6lpoVwyBTiw"
      }
    },
    {
      "cell_type": "code",
      "source": [
        "del t"
      ],
      "metadata": {
        "id": "myELM_ARBWBA"
      },
      "execution_count": null,
      "outputs": []
    },
    {
      "cell_type": "markdown",
      "metadata": {
        "id": "ygjNNRQ9hBMT"
      },
      "source": [
        "### Sets\n",
        "This container is to get the unique value from the elements."
      ]
    },
    {
      "cell_type": "markdown",
      "source": [
        "#### Creating Sets"
      ],
      "metadata": {
        "id": "U4zFRfWx7suN"
      }
    },
    {
      "cell_type": "code",
      "metadata": {
        "id": "gB5zOCG6hBMT",
        "colab": {
          "base_uri": "https://localhost:8080/"
        },
        "outputId": "f48127f1-57e4-412d-edb6-f88bca981c08"
      },
      "source": [
        "s = {1,2,3} # using {} for creation\n",
        "s"
      ],
      "execution_count": null,
      "outputs": [
        {
          "output_type": "execute_result",
          "data": {
            "text/plain": [
              "{1, 2, 3}"
            ]
          },
          "metadata": {},
          "execution_count": 7
        }
      ]
    },
    {
      "cell_type": "code",
      "metadata": {
        "id": "7tfidHHfhBMV",
        "colab": {
          "base_uri": "https://localhost:8080/"
        },
        "outputId": "ad56a5d9-5313-4d0a-c23b-c56ffaacfe78"
      },
      "source": [
        "s = {1,2,3,1,2,1,2,3,3,3,3,2,2,2,1,1,2}\n",
        "s"
      ],
      "execution_count": null,
      "outputs": [
        {
          "output_type": "execute_result",
          "data": {
            "text/plain": [
              "{1, 2, 3}"
            ]
          },
          "metadata": {},
          "execution_count": 2
        }
      ]
    },
    {
      "cell_type": "code",
      "source": [
        "s=set(list('I love you'))\n",
        "s"
      ],
      "metadata": {
        "colab": {
          "base_uri": "https://localhost:8080/"
        },
        "id": "rYokjWe9sJIs",
        "outputId": "ca39c3ca-fd28-4c1f-9204-00c3dd068f9b"
      },
      "execution_count": null,
      "outputs": [
        {
          "output_type": "execute_result",
          "data": {
            "text/plain": [
              "{' ', 'I', 'e', 'l', 'o', 'u', 'v', 'y'}"
            ]
          },
          "metadata": {},
          "execution_count": 3
        }
      ]
    },
    {
      "cell_type": "markdown",
      "source": [
        "#### Reading Sets"
      ],
      "metadata": {
        "id": "GxltwMiE8XML"
      }
    },
    {
      "cell_type": "code",
      "source": [
        "list(s)[0]"
      ],
      "metadata": {
        "colab": {
          "base_uri": "https://localhost:8080/",
          "height": 35
        },
        "id": "J-zv2c968Zyc",
        "outputId": "ec0f2ce3-7437-4119-ec61-72705a9f6850"
      },
      "execution_count": null,
      "outputs": [
        {
          "output_type": "execute_result",
          "data": {
            "text/plain": [
              "'o'"
            ],
            "application/vnd.google.colaboratory.intrinsic+json": {
              "type": "string"
            }
          },
          "metadata": {},
          "execution_count": 4
        }
      ]
    },
    {
      "cell_type": "markdown",
      "source": [
        "#### Delete Sets"
      ],
      "metadata": {
        "id": "pakuEAEGAi1D"
      }
    },
    {
      "cell_type": "code",
      "source": [
        "del s "
      ],
      "metadata": {
        "id": "HqMYqNRAAm_r"
      },
      "execution_count": null,
      "outputs": []
    },
    {
      "cell_type": "markdown",
      "metadata": {
        "id": "BaDOyzjthBLB"
      },
      "source": [
        "## Commonly Used Built-in Functions"
      ]
    },
    {
      "cell_type": "markdown",
      "source": [
        "### print()"
      ],
      "metadata": {
        "id": "q43B5TNNtIjo"
      }
    },
    {
      "cell_type": "code",
      "metadata": {
        "id": "l1uw601phBLB"
      },
      "source": [
        "x = 'hello'"
      ],
      "execution_count": null,
      "outputs": []
    },
    {
      "cell_type": "code",
      "metadata": {
        "id": "N-zXpHKkhBLG"
      },
      "source": [
        "print(x)"
      ],
      "execution_count": null,
      "outputs": []
    },
    {
      "cell_type": "code",
      "metadata": {
        "id": "ei7kpKXchBLK"
      },
      "source": [
        "num = 12\n",
        "name = 'Sam'"
      ],
      "execution_count": null,
      "outputs": []
    },
    {
      "cell_type": "code",
      "metadata": {
        "id": "Un4lUR1FhBLN",
        "colab": {
          "base_uri": "https://localhost:8080/",
          "height": 171
        },
        "outputId": "92ef088f-c9b7-433c-cee6-95b478f81159"
      },
      "source": [
        "print('My number is: {one}, and my name is: {two}'.format(one=num,two=name))"
      ],
      "execution_count": 31,
      "outputs": [
        {
          "output_type": "error",
          "ename": "NameError",
          "evalue": "ignored",
          "traceback": [
            "\u001b[0;31m---------------------------------------------------------------------------\u001b[0m",
            "\u001b[0;31mNameError\u001b[0m                                 Traceback (most recent call last)",
            "\u001b[0;32m<ipython-input-31-836906c42de5>\u001b[0m in \u001b[0;36m<module>\u001b[0;34m\u001b[0m\n\u001b[0;32m----> 1\u001b[0;31m \u001b[0mprint\u001b[0m\u001b[0;34m(\u001b[0m\u001b[0;34m'My number is: {one}, and my name is: {two}'\u001b[0m\u001b[0;34m.\u001b[0m\u001b[0mformat\u001b[0m\u001b[0;34m(\u001b[0m\u001b[0mone\u001b[0m\u001b[0;34m=\u001b[0m\u001b[0mnum\u001b[0m\u001b[0;34m,\u001b[0m\u001b[0mtwo\u001b[0m\u001b[0;34m=\u001b[0m\u001b[0mname\u001b[0m\u001b[0;34m)\u001b[0m\u001b[0;34m)\u001b[0m\u001b[0;34m\u001b[0m\u001b[0;34m\u001b[0m\u001b[0m\n\u001b[0m",
            "\u001b[0;31mNameError\u001b[0m: name 'num' is not defined"
          ]
        }
      ]
    },
    {
      "cell_type": "code",
      "metadata": {
        "id": "WJs6FBAqhBLP",
        "colab": {
          "base_uri": "https://localhost:8080/",
          "height": 171
        },
        "outputId": "9105512b-684e-4c6d-b059-f6fddc9a627d"
      },
      "source": [
        "print('My number is: {}, and my name is: {}'.format(num,name))"
      ],
      "execution_count": 32,
      "outputs": [
        {
          "output_type": "error",
          "ename": "NameError",
          "evalue": "ignored",
          "traceback": [
            "\u001b[0;31m---------------------------------------------------------------------------\u001b[0m",
            "\u001b[0;31mNameError\u001b[0m                                 Traceback (most recent call last)",
            "\u001b[0;32m<ipython-input-32-84acdd0e978c>\u001b[0m in \u001b[0;36m<module>\u001b[0;34m\u001b[0m\n\u001b[0;32m----> 1\u001b[0;31m \u001b[0mprint\u001b[0m\u001b[0;34m(\u001b[0m\u001b[0;34m'My number is: {}, and my name is: {}'\u001b[0m\u001b[0;34m.\u001b[0m\u001b[0mformat\u001b[0m\u001b[0;34m(\u001b[0m\u001b[0mnum\u001b[0m\u001b[0;34m,\u001b[0m\u001b[0mname\u001b[0m\u001b[0;34m)\u001b[0m\u001b[0;34m)\u001b[0m\u001b[0;34m\u001b[0m\u001b[0;34m\u001b[0m\u001b[0m\n\u001b[0m",
            "\u001b[0;31mNameError\u001b[0m: name 'num' is not defined"
          ]
        }
      ]
    },
    {
      "cell_type": "code",
      "source": [
        "age = 5.5\n",
        "print(f'She Loves Data is {age} years young')"
      ],
      "metadata": {
        "colab": {
          "base_uri": "https://localhost:8080/"
        },
        "id": "S-mTCtBGe4J7",
        "outputId": "982e2ecf-5e96-4a9e-bde7-444137a70424"
      },
      "execution_count": null,
      "outputs": [
        {
          "output_type": "stream",
          "name": "stdout",
          "text": [
            "She Loves Data is 5.5 years young\n"
          ]
        }
      ]
    },
    {
      "cell_type": "code",
      "source": [
        "print(\n",
        "'''\n",
        "Oh my gosh!\n",
        "I discover\n",
        "my love for Python\n",
        "'''\n",
        ")\n",
        "print(\n",
        "\"\"\"\n",
        "This is another\n",
        "declaration of my\n",
        "love with Python\n",
        "\"\"\"\n",
        ")"
      ],
      "metadata": {
        "colab": {
          "base_uri": "https://localhost:8080/"
        },
        "id": "Lc0j_UYO2PNt",
        "outputId": "ce9ed903-1875-499c-c155-2a2841f8c0b2"
      },
      "execution_count": null,
      "outputs": [
        {
          "output_type": "stream",
          "name": "stdout",
          "text": [
            "\n",
            "Oh my gosh!\n",
            "I discover\n",
            "my love for Python\n",
            "\n",
            "\n",
            "This is another\n",
            "declaration of my\n",
            "love with Python\n",
            "\n"
          ]
        }
      ]
    },
    {
      "cell_type": "markdown",
      "source": [
        "### input()"
      ],
      "metadata": {
        "id": "aj1swVygEQ4c"
      }
    },
    {
      "cell_type": "code",
      "source": [
        "x = input()\n",
        "print(x)"
      ],
      "metadata": {
        "colab": {
          "base_uri": "https://localhost:8080/"
        },
        "id": "A7z9uDN2EYjo",
        "outputId": "00372fbe-c75a-4e3a-9a90-2885f15fff9d"
      },
      "execution_count": null,
      "outputs": [
        {
          "output_type": "stream",
          "name": "stdout",
          "text": [
            "23\n",
            "23\n"
          ]
        }
      ]
    },
    {
      "cell_type": "code",
      "source": [
        "x = int(input())\n",
        "print(x)"
      ],
      "metadata": {
        "colab": {
          "base_uri": "https://localhost:8080/"
        },
        "id": "O8MjmgmOFh5z",
        "outputId": "b3f45796-3e1a-467b-e6ef-6c626e734232"
      },
      "execution_count": null,
      "outputs": [
        {
          "output_type": "stream",
          "name": "stdout",
          "text": [
            "2\n",
            "2\n"
          ]
        }
      ]
    },
    {
      "cell_type": "code",
      "source": [
        "x, y = input(\"Enter input: \").split()\n",
        "print(x, y)"
      ],
      "metadata": {
        "colab": {
          "base_uri": "https://localhost:8080/"
        },
        "id": "nlnu4wdKEtOp",
        "outputId": "c01ec46c-fff8-42e4-cd90-94c16875847e"
      },
      "execution_count": null,
      "outputs": [
        {
          "output_type": "stream",
          "name": "stdout",
          "text": [
            "Enter input: 2 10\n",
            "2 10\n"
          ]
        }
      ]
    },
    {
      "cell_type": "markdown",
      "source": [
        "### type()"
      ],
      "metadata": {
        "id": "Ckf-wYcqtLe0"
      }
    },
    {
      "cell_type": "code",
      "source": [
        "type(my_list)"
      ],
      "metadata": {
        "colab": {
          "base_uri": "https://localhost:8080/"
        },
        "id": "7h-2ZwJwyhte",
        "outputId": "03d60435-7e08-4eba-e79a-8d67754eff5e"
      },
      "execution_count": null,
      "outputs": [
        {
          "output_type": "execute_result",
          "data": {
            "text/plain": [
              "list"
            ]
          },
          "metadata": {},
          "execution_count": 24
        }
      ]
    },
    {
      "cell_type": "code",
      "source": [
        "type('s')"
      ],
      "metadata": {
        "colab": {
          "base_uri": "https://localhost:8080/"
        },
        "id": "Gd_WlM5bCaTk",
        "outputId": "1c933712-09f9-4aba-a347-4f1d4534d942"
      },
      "execution_count": null,
      "outputs": [
        {
          "output_type": "execute_result",
          "data": {
            "text/plain": [
              "str"
            ]
          },
          "metadata": {},
          "execution_count": 11
        }
      ]
    },
    {
      "cell_type": "code",
      "source": [
        "type(1)"
      ],
      "metadata": {
        "colab": {
          "base_uri": "https://localhost:8080/"
        },
        "id": "ddrj07izCdMU",
        "outputId": "c3f23264-4a15-4154-825d-00037e8a625b"
      },
      "execution_count": null,
      "outputs": [
        {
          "output_type": "execute_result",
          "data": {
            "text/plain": [
              "int"
            ]
          },
          "metadata": {},
          "execution_count": 12
        }
      ]
    },
    {
      "cell_type": "code",
      "source": [
        "type(1.5)"
      ],
      "metadata": {
        "colab": {
          "base_uri": "https://localhost:8080/"
        },
        "id": "TV2JylwgCfER",
        "outputId": "c472e6bf-e444-4082-812e-b03d3f478c15"
      },
      "execution_count": null,
      "outputs": [
        {
          "output_type": "execute_result",
          "data": {
            "text/plain": [
              "float"
            ]
          },
          "metadata": {},
          "execution_count": 13
        }
      ]
    },
    {
      "cell_type": "markdown",
      "source": [
        "### range()\n",
        "range(start, end, step) to automatically generate ordered numbers based on specified parameters."
      ],
      "metadata": {
        "id": "zX4x_fdceAms"
      }
    },
    {
      "cell_type": "code",
      "source": [
        "list(range(0,4,2))"
      ],
      "metadata": {
        "colab": {
          "base_uri": "https://localhost:8080/"
        },
        "id": "0yrqobTSeSKc",
        "outputId": "b000dfdd-1731-447f-c68b-e161799aa97c"
      },
      "execution_count": null,
      "outputs": [
        {
          "output_type": "execute_result",
          "data": {
            "text/plain": [
              "[0, 2]"
            ]
          },
          "metadata": {},
          "execution_count": 2
        }
      ]
    },
    {
      "cell_type": "code",
      "source": [
        "list(range(5))"
      ],
      "metadata": {
        "colab": {
          "base_uri": "https://localhost:8080/"
        },
        "id": "3Bjxn2q9etXH",
        "outputId": "9d4c5b21-cc25-4a6a-9980-545f5960b0ce"
      },
      "execution_count": null,
      "outputs": [
        {
          "output_type": "execute_result",
          "data": {
            "text/plain": [
              "[0, 1, 2, 3, 4]"
            ]
          },
          "metadata": {},
          "execution_count": 3
        }
      ]
    },
    {
      "cell_type": "markdown",
      "source": [
        "### len()\n",
        "len(object) is to know number of items in the object"
      ],
      "metadata": {
        "id": "N3Hfm0lS4uxB"
      }
    },
    {
      "cell_type": "code",
      "source": [
        "len([1,2,3])"
      ],
      "metadata": {
        "colab": {
          "base_uri": "https://localhost:8080/"
        },
        "id": "h83XGTVo45Hq",
        "outputId": "354a1af5-e8e7-4a07-c1da-757a6211e7d7"
      },
      "execution_count": null,
      "outputs": [
        {
          "output_type": "execute_result",
          "data": {
            "text/plain": [
              "3"
            ]
          },
          "metadata": {},
          "execution_count": 23
        }
      ]
    },
    {
      "cell_type": "code",
      "source": [
        "len([1,[1,2]])"
      ],
      "metadata": {
        "colab": {
          "base_uri": "https://localhost:8080/"
        },
        "id": "x3CHiBN847rf",
        "outputId": "43891fe3-0a2e-4bad-f488-47ed3f243674"
      },
      "execution_count": null,
      "outputs": [
        {
          "output_type": "execute_result",
          "data": {
            "text/plain": [
              "2"
            ]
          },
          "metadata": {},
          "execution_count": 25
        }
      ]
    },
    {
      "cell_type": "code",
      "source": [
        "ls= [1,[1,2]]\n",
        "len(ls[1])"
      ],
      "metadata": {
        "colab": {
          "base_uri": "https://localhost:8080/"
        },
        "id": "__xUYZvJ5BmC",
        "outputId": "963f3447-eaf1-418f-b3e9-1cc1a11e39c5"
      },
      "execution_count": null,
      "outputs": [
        {
          "output_type": "execute_result",
          "data": {
            "text/plain": [
              "2"
            ]
          },
          "metadata": {},
          "execution_count": 26
        }
      ]
    },
    {
      "cell_type": "markdown",
      "source": [
        "\n",
        "#Lab Exercise #1"
      ],
      "metadata": {
        "id": "dB2q-B-jvYk5"
      }
    },
    {
      "cell_type": "code",
      "source": [
        "#Print the input number\n",
        "x = input()\n",
        "print(x)\n",
        "# type your code here"
      ],
      "metadata": {
        "colab": {
          "base_uri": "https://localhost:8080/"
        },
        "id": "8dVhcJ1aG0_1",
        "outputId": "33a2e744-5bb1-492f-896d-5ed491aebacd"
      },
      "execution_count": 52,
      "outputs": [
        {
          "output_type": "stream",
          "name": "stdout",
          "text": [
            "2\n",
            "2\n"
          ]
        }
      ]
    },
    {
      "cell_type": "code",
      "source": [
        "#Extract Loves from She Loves Data string.\n",
        "word = 'She Loves Data'\n",
        "print(word.split()[1])\n",
        "print(word[4:9])\n",
        "# type your code here"
      ],
      "metadata": {
        "id": "EGAFTLHuw0_f",
        "colab": {
          "base_uri": "https://localhost:8080/"
        },
        "outputId": "b6977ec4-1abc-4139-b5d1-67e2f4c912a7"
      },
      "execution_count": 17,
      "outputs": [
        {
          "output_type": "stream",
          "name": "stdout",
          "text": [
            "Loves\n",
            "Loves\n"
          ]
        }
      ]
    },
    {
      "cell_type": "code",
      "source": [
        "#How do we extract Robert's history grade?\n",
        "dictionary = {'Robert': \n",
        "              {'mathematics':'A',\n",
        "               'history':'C+',\n",
        "               'physics': 'B'},\n",
        "              'Suzie':\n",
        "              {'mathematics':'A+', \n",
        "               'history':'B+',\n",
        "               'physics': 'A-'}\n",
        "              }\n",
        "\n",
        "print(dictionary[\"Robert\"][\"history\"])"
      ],
      "metadata": {
        "id": "tenr-n0AzC9P",
        "colab": {
          "base_uri": "https://localhost:8080/"
        },
        "outputId": "638b534e-1411-468c-b8af-735ef188a2cb"
      },
      "execution_count": 18,
      "outputs": [
        {
          "output_type": "stream",
          "name": "stdout",
          "text": [
            "C+\n"
          ]
        }
      ]
    },
    {
      "cell_type": "code",
      "source": [
        "#Given following variable, how do I output following? \n",
        "# When x is 2, x+2 is 4.\n",
        "x = 2\n",
        "print(f'When x is {x}, x+2 is {x+2}')\n",
        "#type your code here"
      ],
      "metadata": {
        "id": "ZKsFvYO70v0y",
        "colab": {
          "base_uri": "https://localhost:8080/"
        },
        "outputId": "454eea76-bbc3-4e16-a78b-3dcf30953827"
      },
      "execution_count": 21,
      "outputs": [
        {
          "output_type": "stream",
          "name": "stdout",
          "text": [
            "When x is 2, x+2 is 4\n"
          ]
        }
      ]
    },
    {
      "cell_type": "code",
      "source": [
        "#Challenge question: How to reverse all the letters in the word?\n",
        "word = 'I love Python'\n",
        "print(word[::-1])\n",
        "#expected result: nohtyP evol I\n",
        "#type your code here"
      ],
      "metadata": {
        "id": "FtiymK-fQSBJ",
        "colab": {
          "base_uri": "https://localhost:8080/"
        },
        "outputId": "c4799990-fa59-415f-b26d-e6b57b9f1fed"
      },
      "execution_count": 23,
      "outputs": [
        {
          "output_type": "stream",
          "name": "stdout",
          "text": [
            "nohtyP evol I\n"
          ]
        }
      ]
    },
    {
      "cell_type": "markdown",
      "source": [
        "# Operators"
      ],
      "metadata": {
        "id": "9QvCVLMKmCYm"
      }
    },
    {
      "cell_type": "markdown",
      "source": [
        "## Arithmetic Operators"
      ],
      "metadata": {
        "id": "MymI-P01p-b1"
      }
    },
    {
      "cell_type": "code",
      "source": [
        "1 + 2"
      ],
      "metadata": {
        "colab": {
          "base_uri": "https://localhost:8080/"
        },
        "id": "q_LaIqyWpvhS",
        "outputId": "6c49fffc-af50-47ee-aff8-ee342451881d"
      },
      "execution_count": null,
      "outputs": [
        {
          "output_type": "execute_result",
          "data": {
            "text/plain": [
              "3"
            ]
          },
          "metadata": {},
          "execution_count": 28
        }
      ]
    },
    {
      "cell_type": "code",
      "metadata": {
        "id": "8bXq-n9ChBKW",
        "colab": {
          "base_uri": "https://localhost:8080/"
        },
        "outputId": "828221eb-023e-4de9-d36b-7207a1a2234f"
      },
      "source": [
        "#power\n",
        "2 ** 4"
      ],
      "execution_count": null,
      "outputs": [
        {
          "output_type": "execute_result",
          "data": {
            "text/plain": [
              "16"
            ]
          },
          "metadata": {},
          "execution_count": 29
        }
      ]
    },
    {
      "cell_type": "code",
      "metadata": {
        "id": "4B6DgjYwhBKa",
        "colab": {
          "base_uri": "https://localhost:8080/"
        },
        "outputId": "5e939f6e-f7aa-4883-e4a5-f9e2b1689c95"
      },
      "source": [
        "4 % 2 #modulo, returning remainder. Commonly used in checking divisibility"
      ],
      "execution_count": null,
      "outputs": [
        {
          "output_type": "execute_result",
          "data": {
            "text/plain": [
              "0"
            ]
          },
          "metadata": {},
          "execution_count": 30
        }
      ]
    },
    {
      "cell_type": "code",
      "metadata": {
        "id": "xNoWc-sjhBKe",
        "colab": {
          "base_uri": "https://localhost:8080/"
        },
        "outputId": "f018229d-7e77-4e4a-c88f-706fa33c0eef"
      },
      "source": [
        "5 % 2 "
      ],
      "execution_count": null,
      "outputs": [
        {
          "output_type": "execute_result",
          "data": {
            "text/plain": [
              "1"
            ]
          },
          "metadata": {},
          "execution_count": 31
        }
      ]
    },
    {
      "cell_type": "code",
      "metadata": {
        "id": "7V4BevUohBKg",
        "colab": {
          "base_uri": "https://localhost:8080/"
        },
        "outputId": "3ea258e0-fd23-4aa1-b556-b0336f584613"
      },
      "source": [
        "(2 + 3) * (5 + 5)"
      ],
      "execution_count": null,
      "outputs": [
        {
          "output_type": "execute_result",
          "data": {
            "text/plain": [
              "50"
            ]
          },
          "metadata": {},
          "execution_count": 32
        }
      ]
    },
    {
      "cell_type": "code",
      "source": [
        "5//2 #returns the smallest integer"
      ],
      "metadata": {
        "colab": {
          "base_uri": "https://localhost:8080/"
        },
        "id": "ZcZtgtX1qJfm",
        "outputId": "a4a176c6-2191-40d9-face-003f4f584af4"
      },
      "execution_count": null,
      "outputs": [
        {
          "output_type": "execute_result",
          "data": {
            "text/plain": [
              "2"
            ]
          },
          "metadata": {},
          "execution_count": 33
        }
      ]
    },
    {
      "cell_type": "markdown",
      "metadata": {
        "id": "Qu15AtEyhBMX"
      },
      "source": [
        "## Comparison Operators"
      ]
    },
    {
      "cell_type": "code",
      "metadata": {
        "id": "SLCRd_ZPhBMX",
        "colab": {
          "base_uri": "https://localhost:8080/"
        },
        "outputId": "df703e69-db01-47e9-8d94-675b8970067d"
      },
      "source": [
        "1 > 2"
      ],
      "execution_count": null,
      "outputs": [
        {
          "output_type": "execute_result",
          "data": {
            "text/plain": [
              "False"
            ]
          },
          "metadata": {},
          "execution_count": 34
        }
      ]
    },
    {
      "cell_type": "code",
      "metadata": {
        "id": "IUFqaHfshBMa",
        "colab": {
          "base_uri": "https://localhost:8080/"
        },
        "outputId": "429af7ee-9731-4e87-f503-fdabe3940057"
      },
      "source": [
        "1 < 2"
      ],
      "execution_count": null,
      "outputs": [
        {
          "output_type": "execute_result",
          "data": {
            "text/plain": [
              "True"
            ]
          },
          "metadata": {},
          "execution_count": 35
        }
      ]
    },
    {
      "cell_type": "code",
      "metadata": {
        "id": "jjVqHl5qhBMb",
        "colab": {
          "base_uri": "https://localhost:8080/"
        },
        "outputId": "59c3ed60-f19a-4335-9e92-92cf2299287b"
      },
      "source": [
        "1 >= 1"
      ],
      "execution_count": null,
      "outputs": [
        {
          "output_type": "execute_result",
          "data": {
            "text/plain": [
              "True"
            ]
          },
          "metadata": {},
          "execution_count": 36
        }
      ]
    },
    {
      "cell_type": "code",
      "metadata": {
        "id": "tetEBTsxhBMd",
        "colab": {
          "base_uri": "https://localhost:8080/"
        },
        "outputId": "1d9ea418-ac30-4caa-a04f-6cde5d98c2c7"
      },
      "source": [
        "1 <= 4"
      ],
      "execution_count": null,
      "outputs": [
        {
          "output_type": "execute_result",
          "data": {
            "text/plain": [
              "True"
            ]
          },
          "metadata": {},
          "execution_count": 37
        }
      ]
    },
    {
      "cell_type": "code",
      "metadata": {
        "id": "9NvHS2FmhBMh",
        "colab": {
          "base_uri": "https://localhost:8080/"
        },
        "outputId": "49f0ff27-4a8e-4476-d390-dd94064fed59"
      },
      "source": [
        "1 == 1"
      ],
      "execution_count": null,
      "outputs": [
        {
          "output_type": "execute_result",
          "data": {
            "text/plain": [
              "True"
            ]
          },
          "metadata": {},
          "execution_count": 38
        }
      ]
    },
    {
      "cell_type": "code",
      "metadata": {
        "id": "YsDzGid8hBMj",
        "colab": {
          "base_uri": "https://localhost:8080/"
        },
        "outputId": "aaf3afdb-adbd-48d0-bbe8-89cf80704ecd"
      },
      "source": [
        "'hi' == 'bye'"
      ],
      "execution_count": null,
      "outputs": [
        {
          "output_type": "execute_result",
          "data": {
            "text/plain": [
              "False"
            ]
          },
          "metadata": {},
          "execution_count": 39
        }
      ]
    },
    {
      "cell_type": "markdown",
      "metadata": {
        "id": "qM9-tQuPhBMm"
      },
      "source": [
        "## Logic Operators\n",
        "This is mainly used to check on condition(s) for control flows. "
      ]
    },
    {
      "cell_type": "code",
      "metadata": {
        "id": "7utWWgg1hBMs",
        "colab": {
          "base_uri": "https://localhost:8080/"
        },
        "outputId": "88170c2e-461d-44cc-df50-733e7e4198ca"
      },
      "source": [
        "(1 > 2) and (2 < 3)"
      ],
      "execution_count": null,
      "outputs": [
        {
          "output_type": "execute_result",
          "data": {
            "text/plain": [
              "False"
            ]
          },
          "metadata": {},
          "execution_count": 40
        }
      ]
    },
    {
      "cell_type": "code",
      "metadata": {
        "id": "vVcd91lRhBMv",
        "colab": {
          "base_uri": "https://localhost:8080/"
        },
        "outputId": "033df59a-81ef-48ca-d045-afd06586885f"
      },
      "source": [
        "(1 > 2) or (2 < 3)"
      ],
      "execution_count": null,
      "outputs": [
        {
          "output_type": "execute_result",
          "data": {
            "text/plain": [
              "True"
            ]
          },
          "metadata": {},
          "execution_count": 41
        }
      ]
    },
    {
      "cell_type": "code",
      "metadata": {
        "id": "jXvDBnHZhBMx",
        "colab": {
          "base_uri": "https://localhost:8080/"
        },
        "outputId": "9dcfa8b6-7059-4fc4-8b84-475766ae7e6d"
      },
      "source": [
        "(1 == 2) or (2 == 3) or (4 == 4)"
      ],
      "execution_count": null,
      "outputs": [
        {
          "output_type": "execute_result",
          "data": {
            "text/plain": [
              "True"
            ]
          },
          "metadata": {},
          "execution_count": 42
        }
      ]
    },
    {
      "cell_type": "code",
      "source": [
        "not(1 == 1)"
      ],
      "metadata": {
        "colab": {
          "base_uri": "https://localhost:8080/"
        },
        "id": "EuMISOP_y4Kp",
        "outputId": "4110c26f-64a3-4ad5-af38-f638829ca6b1"
      },
      "execution_count": null,
      "outputs": [
        {
          "output_type": "execute_result",
          "data": {
            "text/plain": [
              "False"
            ]
          },
          "metadata": {},
          "execution_count": 43
        }
      ]
    },
    {
      "cell_type": "markdown",
      "source": [
        "#Lab Exercise #2\n"
      ],
      "metadata": {
        "id": "7tYwdqU2aESc"
      }
    },
    {
      "cell_type": "code",
      "source": [
        "birth_year = 1988\n",
        "this_year = 2022\n",
        "\n",
        "### Type your code here...\n",
        "\n",
        "Age = this_year - birth_year\n",
        "print(Age)\n",
        "# calculate the age"
      ],
      "metadata": {
        "id": "CA0hkBf9byMu",
        "colab": {
          "base_uri": "https://localhost:8080/"
        },
        "outputId": "1c03182d-011c-4691-970d-74a3caf0e289"
      },
      "execution_count": 30,
      "outputs": [
        {
          "output_type": "stream",
          "name": "stdout",
          "text": [
            "34\n"
          ]
        }
      ]
    },
    {
      "cell_type": "code",
      "source": [
        "### Is it true that my input age is now 30 years old? How do I write in Python?\n",
        "\n",
        "# your code here...\n",
        "\n",
        "x=input()\n",
        "print(x==30)"
      ],
      "metadata": {
        "id": "ZPu1Lletu6pL",
        "colab": {
          "base_uri": "https://localhost:8080/"
        },
        "outputId": "fc83fa16-0788-42a4-945e-4ac38ac64cd6"
      },
      "execution_count": 44,
      "outputs": [
        {
          "output_type": "stream",
          "name": "stdout",
          "text": [
            "25\n",
            "False\n"
          ]
        }
      ]
    },
    {
      "cell_type": "code",
      "source": [
        "### How do I check if input number is divisible by 9?\n",
        "\n",
        "#type your code here\n",
        "\n",
        "number=int(input())\n",
        "not(number==number%9)"
      ],
      "metadata": {
        "id": "dlJ2G7gL1KbK",
        "colab": {
          "base_uri": "https://localhost:8080/"
        },
        "outputId": "a04d6ebe-8715-43c1-f2dd-a8e00dd12044"
      },
      "execution_count": 46,
      "outputs": [
        {
          "name": "stdout",
          "output_type": "stream",
          "text": [
            "81\n"
          ]
        },
        {
          "output_type": "execute_result",
          "data": {
            "text/plain": [
              "True"
            ]
          },
          "metadata": {},
          "execution_count": 46
        }
      ]
    },
    {
      "cell_type": "code",
      "source": [
        "### Display the number that always return the positive number for the input\n",
        "\n",
        "#type your code here\n",
        "number=int(input())\n",
        "abs(number)"
      ],
      "metadata": {
        "colab": {
          "base_uri": "https://localhost:8080/"
        },
        "id": "mDQZLhRBF8l2",
        "outputId": "f25651d4-cb2b-4488-f8ee-3eec2f810ac1"
      },
      "execution_count": 51,
      "outputs": [
        {
          "name": "stdout",
          "output_type": "stream",
          "text": [
            "10\n"
          ]
        },
        {
          "output_type": "execute_result",
          "data": {
            "text/plain": [
              "10"
            ]
          },
          "metadata": {},
          "execution_count": 51
        }
      ]
    },
    {
      "cell_type": "code",
      "source": [],
      "metadata": {
        "id": "rw9YCR7NY1xd"
      },
      "execution_count": null,
      "outputs": []
    }
  ]
}